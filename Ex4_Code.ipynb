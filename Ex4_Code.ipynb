{
  "nbformat": 4,
  "nbformat_minor": 0,
  "metadata": {
    "colab": {
      "name": "Ex4_Code.ipynb",
      "provenance": [],
      "collapsed_sections": [
        "uHJL9aA_Tu0E",
        "ijIaXJkFEVzM",
        "29qjI9OzqHdD",
        "7ZVzQALQqMtz",
        "RObR0N2YqRRt",
        "BUJ-fsEJqXDA",
        "1ImYhfblqcfd",
        "Wz5ODZ-ET7-2",
        "KiR1laVKCdpy",
        "69t3ORZBJObx",
        "eBfLmhd0Lm4y",
        "ixcIvxM9W1dz",
        "v0znYBFFw2K_"
      ]
    },
    "kernelspec": {
      "name": "python3",
      "display_name": "Python 3"
    },
    "accelerator": "GPU",
    "language_info": {
      "name": "python"
    }
  },
  "cells": [
    {
      "cell_type": "markdown",
      "metadata": {
        "id": "wC8PrDLfTqd3"
      },
      "source": [
        "# Preliminaries - Installs, imports etc.\n",
        "\n"
      ]
    },
    {
      "cell_type": "code",
      "metadata": {
        "id": "niiV9EMKTSx3",
        "colab": {
          "base_uri": "https://localhost:8080/"
        },
        "cellView": "form",
        "outputId": "46c72d17-2b93-42fd-f060-11b849ff3749"
      },
      "source": [
        "%reset\n",
        "#@title Choose seed value\n",
        "Seed = 1995 #@param {type:\"integer\"}\n",
        "!rm -rf ./logs/\n",
        "%load_ext tensorboard\n",
        "%matplotlib inline\n",
        "\n",
        "import datetime\n",
        "import numpy as np\n",
        "from numpy.random import Generator, PCG64\n",
        "from matplotlib import pyplot as plt\n",
        "import seaborn as sns\n",
        "import tensorflow as tf\n",
        "from tensorflow import keras\n",
        "from tensorflow.keras import layers\n",
        "from tensorflow.keras.models import clone_model\n",
        "from IPython.display import clear_output\n",
        "from random import sample\n",
        "\n",
        "tf.random.set_seed(Seed)  # Seeding Tensorflow.\n",
        "# log_dir = \"logs/fit/\" + datetime.datetime.now().strftime(\"%Y%m%d-%H%M%S\")\n",
        "\n",
        "#tensorboard_callback = tf.keras.callbacks.TensorBoard(log_dir=log_dir, histogram_freq=1)"
      ],
      "execution_count": 81,
      "outputs": [
        {
          "output_type": "stream",
          "text": [
            "Once deleted, variables cannot be recovered. Proceed (y/[n])? y\n",
            "The tensorboard extension is already loaded. To reload it, use:\n",
            "  %reload_ext tensorboard\n"
          ],
          "name": "stdout"
        }
      ]
    },
    {
      "cell_type": "markdown",
      "metadata": {
        "id": "uHJL9aA_Tu0E"
      },
      "source": [
        "# MNIST Dataset - Loading & Preprocessing"
      ]
    },
    {
      "cell_type": "code",
      "metadata": {
        "id": "ZxA4MpybTvnB"
      },
      "source": [
        "num_classes = 10\n",
        "img_rows, img_cols, img_colors = 28, 28, 1  # Greyscale images of 28 X 28.\n",
        "\n",
        "\n",
        "(train_images, train_labels_base), (test_images, test_labels_base) = keras.datasets.mnist.load_data()\n",
        "train_images = train_images.astype('float32')/255\n",
        "test_images = test_images.astype('float32')/255\n",
        "train_images = train_images.reshape(train_images.shape[0], img_rows, img_cols, 1)\n",
        "test_images = test_images.reshape(test_images.shape[0], img_rows, img_cols, 1)\n",
        "    \n",
        "train_labels = keras.utils.to_categorical(train_labels_base, num_classes)\n",
        "test_labels = keras.utils.to_categorical(test_labels_base, num_classes)\n",
        "\n"
      ],
      "execution_count": 82,
      "outputs": []
    },
    {
      "cell_type": "markdown",
      "metadata": {
        "id": "j3zPL37giW-H"
      },
      "source": [
        "## Randomly choose two out of the ten classes in the MNIST dataset \n",
        "Randomly choose two out of the ten classes in the MNIST dataset. Filter out the dataset so that it includes only the two selected classes. Train a defensively distilled binary classifier over the filtered dataset, and eventually attack your classifier with the 4 different attack methods we have listed earlier.\n"
      ]
    },
    {
      "cell_type": "code",
      "metadata": {
        "id": "D99YqPWT8zD7",
        "colab": {
          "base_uri": "https://localhost:8080/"
        },
        "outputId": "9ff3a306-1d5c-46ec-d9cd-8455ff3d7bea"
      },
      "source": [
        "train_labels.shape"
      ],
      "execution_count": 83,
      "outputs": [
        {
          "output_type": "execute_result",
          "data": {
            "text/plain": [
              "(60000, 10)"
            ]
          },
          "metadata": {
            "tags": []
          },
          "execution_count": 83
        }
      ]
    },
    {
      "cell_type": "code",
      "metadata": {
        "id": "WGx37YV38zD8",
        "colab": {
          "base_uri": "https://localhost:8080/"
        },
        "outputId": "efecac84-1e31-4000-fa94-d5fac019f72a"
      },
      "source": [
        "train_images.shape"
      ],
      "execution_count": 84,
      "outputs": [
        {
          "output_type": "execute_result",
          "data": {
            "text/plain": [
              "(60000, 28, 28, 1)"
            ]
          },
          "metadata": {
            "tags": []
          },
          "execution_count": 84
        }
      ]
    },
    {
      "cell_type": "code",
      "metadata": {
        "id": "PCuPIOophY5n"
      },
      "source": [
        "train_images_tensor = tf.Variable(train_images)\n",
        "train_labels_tensor = tf.Variable(train_labels)\n",
        "test_images_tensor = tf.Variable(test_images)\n",
        "test_labels_tensor = tf.Variable(test_labels)"
      ],
      "execution_count": 85,
      "outputs": []
    },
    {
      "cell_type": "markdown",
      "metadata": {
        "id": "ijIaXJkFEVzM"
      },
      "source": [
        "# Attack Functions\n",
        "\n",
        "> Below are all available attacks."
      ]
    },
    {
      "cell_type": "markdown",
      "metadata": {
        "id": "29qjI9OzqHdD"
      },
      "source": [
        "## FGSM"
      ]
    },
    {
      "cell_type": "code",
      "metadata": {
        "id": "WSLmJNI9qJ4n"
      },
      "source": [
        "@tf.function\n",
        "def FastGradientSignMethod(model, images, labels, epsilon=0.3):\n",
        "    with tf.GradientTape() as grad:\n",
        "        true_label_tensor = labels\n",
        "        input_tensor = images\n",
        "        predicted = model(input_tensor)\n",
        "        adv_loss = keras.losses.categorical_crossentropy(true_label_tensor, predicted)\n",
        "    adv_grads = grad.gradient(adv_loss, input_tensor)\n",
        "\n",
        "    # Finally, the FGSM formula is rather straight forward x`= x + epsilon * sign(loss(x,y))\n",
        "    delta = tf.cast(tf.sign(adv_grads), tf.float32)\n",
        "    \n",
        "    delta = tf.multiply(epsilon, delta)\n",
        "    adv_out = input_tensor + delta\n",
        "    return adv_out"
      ],
      "execution_count": 86,
      "outputs": []
    },
    {
      "cell_type": "markdown",
      "metadata": {
        "id": "7ZVzQALQqMtz"
      },
      "source": [
        "## TGSM"
      ]
    },
    {
      "cell_type": "code",
      "metadata": {
        "id": "Jz7ztptdqOls"
      },
      "source": [
        "@tf.function\n",
        "def TargetedGradientSignMethod(model, images, target, epsilon=0.3):\n",
        "    with tf.GradientTape() as grad:\n",
        "        target_label_tensor = target\n",
        "        input_tensor = images\n",
        "        predicted = model(input_tensor)\n",
        "        adv_loss = keras.losses.categorical_crossentropy(target_label_tensor, predicted)\n",
        "    adv_grads = grad.gradient(adv_loss, input_tensor)\n",
        "\n",
        "    # Finally, the TGSM formula is rather straight forward x`= x - epsilon * sign(loss(x,y))\n",
        "    delta = tf.cast(tf.sign(adv_grads), tf.float32)\n",
        "    \n",
        "    delta = tf.multiply(epsilon, delta)\n",
        "    adv_out = input_tensor - delta\n",
        "    return adv_out"
      ],
      "execution_count": 87,
      "outputs": []
    },
    {
      "cell_type": "markdown",
      "metadata": {
        "id": "RObR0N2YqRRt"
      },
      "source": [
        "## PGD"
      ]
    },
    {
      "cell_type": "code",
      "metadata": {
        "id": "jF7gVhLZqTVG"
      },
      "source": [
        "@tf.function \n",
        "def PGD_Step(model, images, prev_step, labels, epsilon, iter_eps, min_x, max_x, targeted):\n",
        "    with tf.GradientTape() as grad:\n",
        "        input_tensor = prev_step\n",
        "        target_label_tensor = labels\n",
        "        predicted = model(input_tensor)\n",
        "        adv_loss = keras.losses.categorical_crossentropy(target_label_tensor, predicted)\n",
        "    adv_grads = grad.gradient(adv_loss, input_tensor)\n",
        "\n",
        "    # Perturb the input\n",
        "    if targeted:\n",
        "        adv_out = input_tensor - tf.multiply(iter_eps, tf.cast(tf.sign(adv_grads), tf.float32))\n",
        "    else:\n",
        "        adv_out = input_tensor + tf.multiply(iter_eps, tf.cast(tf.sign(adv_grads), tf.float32))\n",
        "\n",
        "    # Project the perturbation to the epsilon ball (L2 projection)\n",
        "    perturbation = adv_out - images\n",
        "    norm = tf.reduce_sum(tf.square(perturbation), axis=(1,2,3), keepdims=True)\n",
        "    norm = tf.sqrt(tf.maximum(10e-12, norm))\n",
        "    factor = tf.minimum(1.0, tf.divide(epsilon, norm))\n",
        "    adv_out = tf.clip_by_value(images + tf.multiply(perturbation, factor), min_x, max_x)\n",
        "\n",
        "    return adv_out\n",
        "  \n",
        "\n",
        "@tf.function \n",
        "def PGD(model, images, labels, epsilon=0.1, iter_eps = 0.05, iterations=10, min_x=0.0, max_x=1.0, targeted=False):\n",
        "    source = tf.identity(images)\n",
        "    adv_out = images\n",
        "\n",
        "    iteration = tf.constant(0, dtype=tf.int32)\n",
        "    while tf.less(iteration, iterations):\n",
        "        tf.print('Attack iteration:', iteration)\n",
        "        adv_out.assign(PGD_Step(model, source, adv_out, labels, epsilon, iter_eps, min_x, max_x, targeted))\n",
        "        iteration += 1\n",
        "\n",
        "    return adv_out"
      ],
      "execution_count": 88,
      "outputs": []
    },
    {
      "cell_type": "markdown",
      "metadata": {
        "id": "BUJ-fsEJqXDA"
      },
      "source": [
        "## BIM"
      ]
    },
    {
      "cell_type": "code",
      "metadata": {
        "id": "PhiaqQqAEYLZ"
      },
      "source": [
        "@tf.function\n",
        "def BIM_Step(model, images, labels, epsilon, iter_eps, min_x, max_x, targeted):\n",
        "    \n",
        "    with tf.GradientTape() as grad:\n",
        "        input_tensor = images\n",
        "        target_label_tensor = labels\n",
        "        predicted = model(input_tensor)\n",
        "        adv_loss = keras.losses.categorical_crossentropy(target_label_tensor, predicted)\n",
        "    adv_grads = grad.gradient(adv_loss, input_tensor)\n",
        "\n",
        "    # Perturb the input\n",
        "    if targeted:\n",
        "        adv_out = input_tensor - tf.multiply(iter_eps, tf.cast(tf.sign(adv_grads), tf.float32))\n",
        "    else:\n",
        "        adv_out = input_tensor + tf.multiply(iter_eps, tf.cast(tf.sign(adv_grads), tf.float32))\n",
        "        \n",
        "    # Clip the intermdiate adversarial examples in order to ensure they are within\n",
        "    # the valid data range\n",
        "    delta = adv_out - images\n",
        "    delta = tf.clip_by_value(delta, -epsilon, epsilon)\n",
        "    adv_out = images + delta\n",
        "    adv_out = tf.clip_by_value(adv_out, min_x, max_x)\n",
        "\n",
        "    return adv_out\n",
        "\n",
        "\n",
        "@tf.function\n",
        "def BIM(model, images, labels, epsilon=0.1, iter_eps = 0.05, iterations=10, min_x=0.0, max_x=1.0, targeted=False):\n",
        "    \n",
        "    adv_out = images\n",
        "    iteration = tf.constant(0, dtype=tf.int32)\n",
        "    \n",
        "    while tf.less(iteration, iterations):\n",
        "        tf.print('Iteration:', iteration)\n",
        "        # Note the use of 'assign' here instead of the '=' operator. This means, adv_out continues to point to the same\n",
        "        # tensor, the same computation graph node, the same physical portion of GPU memory.\n",
        "        # This is crucial because of the while loop structure. Recall that the 'tf.function' decoration creates a static \n",
        "        # computation graph. The python code is transformed into a graph only once.\n",
        "        # Hence if we make adv_out point to a different graph node we will not be able to compute a valid gradient\n",
        "        adv_out.assign(BIM_Step(model, adv_out, labels, epsilon, iter_eps, min_x, max_x, targeted))\n",
        "        iteration += 1\n",
        "\n",
        "    return adv_out"
      ],
      "execution_count": 89,
      "outputs": []
    },
    {
      "cell_type": "markdown",
      "metadata": {
        "id": "1ImYhfblqcfd"
      },
      "source": [
        "## Attack Choices & Evaluation"
      ]
    },
    {
      "cell_type": "code",
      "metadata": {
        "id": "NGHEkn0wqaHa"
      },
      "source": [
        "def commence_attack(model, attack_type, orig_images, true_labels, \n",
        "                    target_labels=None, attack_iters: int=1, \n",
        "                    epsilon: float=0.3, iter_eps: float=0.3):\n",
        "    epsilon = tf.Variable(epsilon, dtype=tf.float32)\n",
        "    iter_eps = tf.Variable(iter_eps)\n",
        "    attack_iters = tf.Variable(attack_iters, dtype=tf.int32)\n",
        "\n",
        "    if attack_type == \"FGSM\":\n",
        "      adv_images = FastGradientSignMethod(model, orig_images, true_labels, \n",
        "                                          epsilon=epsilon)\n",
        "      \n",
        "    elif attack_type == \"BIM(L_inf)\":\n",
        "      adv_images = BIM(model, orig_images, true_labels, epsilon=epsilon,\n",
        "                       iter_eps=iter_eps, targeted=False, \n",
        "                       iterations=attack_iters)\n",
        "\n",
        "    elif attack_type == \"PGD(L_2)\":\n",
        "      adv_images = PGD(model, orig_images, true_labels, epsilon=epsilon,\n",
        "                       iter_eps=iter_eps, targeted=False, \n",
        "                       iterations=attack_iters)\n",
        "      \n",
        "    elif attack_type == \"PGD_target(L_2)\":\n",
        "      adv_images = PGD(model, orig_images, true_labels, epsilon=epsilon,\n",
        "                       iter_eps=iter_eps, targeted=True, \n",
        "                       iterations=attack_iters)\n",
        "      \n",
        "    return adv_images.numpy()\n",
        "\n",
        "def TestAttack(model, adv_images, orig_images, true_labels, target_labels=None, targeted=False):\n",
        "    ''' \n",
        "    A simple utility funcion for evaluating the success of an attack\n",
        "    '''\n",
        "    score = model.evaluate(adv_images, true_labels, verbose=0)\n",
        "    print('Test loss: {:.2f}'.format(score[0]))\n",
        "    print('Successfully moved out of source class: {:.2f}'.format( 1 - score[1]))\n",
        "\n",
        "    \n",
        "    if targeted:  # if targeted is True\n",
        "        score = model.evaluate(adv_images, target_labels, verbose=0)\n",
        "        print('Test loss: {:.2f}'.format(score[0]))\n",
        "        print('Successfully perturbed to target class: {:.2f}'.format(score[1]))\n",
        "    \n",
        "    dist = np.mean(np.sqrt(np.mean(np.square(adv_images - orig_images), axis=(1,2,3))))\n",
        "    print('Mean perturbation distance: {:.2f}'.format(dist))\n",
        "\n",
        "def perform_all_attacks(model, target_labels):\n",
        "  attack_type_array = [\"FGSM\", \"BIM(L_inf)\", \"PGD(L_2)\"]#, \"PGD_target(L_2)\"]\n",
        "  targeted_attacks = [\"PGD_target(L_2)\"]\n",
        "\n",
        "  for attack_type in attack_type_array:\n",
        "    # Performing the attack.\n",
        "    is_attack_targeted: bool = attack_type in targeted_attacks\n",
        "    print('\\n', attack_type + \" method\",'\\n')\n",
        "    test_images_tensor = tf.Variable(test_images.copy(), dtype=tf.float32)\n",
        "    test_labels_tensor = tf.Variable(test_labels.copy(), dtype=tf.float32)\n",
        "    adv_images = commence_attack(model, attack_type, test_images_tensor, \n",
        "                                 test_labels_tensor, target_labels=target_labels,\n",
        "                                 attack_iters=attack_iters, epsilon=epsilon, \n",
        "                                 iter_eps=iter_eps)\n",
        "\n",
        "    # Evaluate the performance of the attack.\n",
        "    TestAttack(model, adv_images, test_images, test_labels, \n",
        "               targeted=is_attack_targeted)"
      ],
      "execution_count": 90,
      "outputs": []
    },
    {
      "cell_type": "markdown",
      "metadata": {
        "id": "YQYiK-E_DlB4"
      },
      "source": [
        "# Attack Config\n",
        "\n",
        "> Shared parameters between all attacks."
      ]
    },
    {
      "cell_type": "code",
      "metadata": {
        "cellView": "form",
        "id": "U-PEBT_GDj7O"
      },
      "source": [
        "#@title Attack Configuration\n",
        "epsilon = 0.1 #@param {type:\"number\"}\n",
        "iter_eps = 0.05 #@param {type:\"number\"}\n",
        "#attack_type = \"FGSM\" #@param [\"FGSM\", \"BIM(L_inf)\", \"PGD(L_2)\",'PGD_target(L_2)']\n",
        "attack_iters = 4 #@param {type:\"integer\"}"
      ],
      "execution_count": 91,
      "outputs": []
    },
    {
      "cell_type": "markdown",
      "metadata": {
        "id": "Wz5ODZ-ET7-2"
      },
      "source": [
        "# Models For Investigation"
      ]
    },
    {
      "cell_type": "markdown",
      "metadata": {
        "id": "09KZG4LlYGkR"
      },
      "source": [
        "Implementing a \"scale-layer\" in order to divide by some temperature $T$ before applying softmax activation."
      ]
    },
    {
      "cell_type": "code",
      "metadata": {
        "id": "xef4gTpiYD-d"
      },
      "source": [
        "class ScaleLayer(tf.keras.layers.Layer):\n",
        "    def __init__(self, temperature):\n",
        "      super(ScaleLayer, self).__init__()\n",
        "      self.temperature: float = temperature  # As pure Python float.\n",
        "      self.scale = tf.Variable(temperature, dtype=tf.float32, trainable=False)  # As float Tensor.\n",
        "\n",
        "    def get_config(self):\n",
        "        return {\"temperature\": self.temperature}\n",
        "\n",
        "    def call(self, inputs, training=None):\n",
        "      if training:\n",
        "        return inputs / self.scale  # Scale by temperature only during training\n",
        "      return inputs  # Does nothing when testing..."
      ],
      "execution_count": 92,
      "outputs": []
    },
    {
      "cell_type": "code",
      "metadata": {
        "id": "Ya6w9FmkT8jI"
      },
      "source": [
        "def CNN_mnist_model_temp(img_rows, img_cols, img_colors, num_classes, \n",
        "                         learning_rate, temperature: float = 1,\n",
        "                         name = \"CNN_temperature\"):\n",
        "    activation = 'relu'\n",
        "    model = keras.Sequential(name =name)\n",
        "    model.add(layers.Conv2D(8, kernel_size=(3, 3), input_shape=(img_rows, img_cols, img_colors), activation=activation))\n",
        "    model.add(layers.Conv2D(8, (3, 3), activation=activation))\n",
        "    model.add(layers.MaxPooling2D(pool_size=(2, 2)))\n",
        "    model.add(layers.Dropout(0.25))\n",
        "    model.add(layers.Flatten())\n",
        "    model.add(layers.Dense(128, activation=activation))\n",
        "    model.add(layers.Dropout(0.5))\n",
        "    model.add(layers.Dense(num_classes))\n",
        "    model.add(ScaleLayer(temperature))  # Note this scale-layer.\n",
        " \n",
        "    model.add(layers.Activation('softmax', name='softmax'))\n",
        "\n",
        "    model.compile(loss='categorical_crossentropy',\n",
        "                optimizer=keras.optimizers.Adadelta(learning_rate),\n",
        "                metrics=[keras.metrics.CategoricalAccuracy()])\n",
        "    return model\n",
        "\n",
        "\n",
        "def CNN_mnist_model(img_rows, img_cols, img_colors, num_classes, learning_rate,\n",
        "                    name = \"CNN\"):\n",
        "    activation = 'relu'\n",
        "    model = keras.Sequential(name =name)\n",
        "    model.add(layers.Conv2D(8, kernel_size=(3, 3), input_shape=(img_rows, img_cols, img_colors), activation=activation))\n",
        "    model.add(layers.Conv2D(8, (3, 3), activation=activation))\n",
        "    model.add(layers.MaxPooling2D(pool_size=(2, 2)))\n",
        "    model.add(layers.Dropout(0.25))\n",
        "    model.add(layers.Flatten())\n",
        "    model.add(layers.Dense(128, activation=activation))\n",
        "    model.add(layers.Dropout(0.5))\n",
        "    model.add(layers.Dense(num_classes))\n",
        "    model.add(layers.Activation('softmax', name='softmax'))\n",
        "\n",
        "    model.compile(loss='categorical_crossentropy',\n",
        "                optimizer=keras.optimizers.Adadelta(learning_rate),\n",
        "                metrics=[keras.metrics.CategoricalAccuracy()])\n",
        "    return model\n",
        "\n",
        "\n",
        "def train_model(model, max_epochs: int, train_images, train_labels, test_images, \n",
        "                test_labels, batch_size, callbacks_list, verbose=1):\n",
        "    history = model.fit(train_images, train_labels,\n",
        "        batch_size=batch_size,\n",
        "        epochs=max_epochs,\n",
        "        verbose=verbose,\n",
        "        validation_data=(test_images, test_labels),\n",
        "        callbacks=callbacks_list)\n",
        "    return history\n",
        "\n",
        "def lr_scheduler(epoch):\n",
        "  return learning_rate * (0.5 ** (epoch // lr_drop))\n",
        "reduce_lr = keras.callbacks.LearningRateScheduler(lr_scheduler)"
      ],
      "execution_count": 93,
      "outputs": []
    },
    {
      "cell_type": "markdown",
      "metadata": {
        "id": "LE27mQDrDjQF"
      },
      "source": [
        "#Train The Teacher-Model"
      ]
    },
    {
      "cell_type": "code",
      "metadata": {
        "id": "gT2Rn-8c8zED",
        "colab": {
          "base_uri": "https://localhost:8080/"
        },
        "cellView": "form",
        "outputId": "0cfd67fd-310b-4bea-d063-7667089a4a2b"
      },
      "source": [
        "#@title Select The Model to Attack and Hyperparameters\n",
        "selected_model = \"CNN from Lecture 2\" #@param [\"CNN from Lecture 2\", \"NN from Ex 1\"]\n",
        "batch_size = 128 #@param {type:\"integer\"}\n",
        "max_epochs = 5 #@param {type:\"integer\"}\n",
        "learning_rate = 0.1 #@param {type:\"number\"}\n",
        "lr_decay = 1e-6 #@param {type:\"number\"}\n",
        "lr_drop = 6 #@param {type:\"number\"}\n",
        "const_temperature = 30 #@param {type:\"number\"}\n",
        "\n",
        "\n",
        "teacher_model = CNN_mnist_model_temp(img_rows, img_cols, img_colors, num_classes, learning_rate)\n",
        "callbacks_list = [reduce_lr]\n",
        "\n",
        "print('Base architecture - a simple convolutional neural network models')\n",
        "print(f'Training-temperature: {const_temperature}')\n",
        "print('Architecture of both teacher and student models')\n",
        "teacher_model.summary()\n",
        "\n",
        "print(\"Training the teacher model for all 10 classes of MNIST\")\n",
        "teacher_history = train_model(teacher_model, max_epochs, train_images, \n",
        "                              train_labels, test_images, test_labels, \n",
        "                              batch_size, callbacks_list)"
      ],
      "execution_count": 94,
      "outputs": [
        {
          "output_type": "stream",
          "text": [
            "Base architecture - a simple convolutional neural network models\n",
            "Training-temperature: 30\n",
            "Architecture of both teacher and student models\n",
            "Model: \"CNN_temperature\"\n",
            "_________________________________________________________________\n",
            "Layer (type)                 Output Shape              Param #   \n",
            "=================================================================\n",
            "conv2d_16 (Conv2D)           (None, 26, 26, 8)         80        \n",
            "_________________________________________________________________\n",
            "conv2d_17 (Conv2D)           (None, 24, 24, 8)         584       \n",
            "_________________________________________________________________\n",
            "max_pooling2d_8 (MaxPooling2 (None, 12, 12, 8)         0         \n",
            "_________________________________________________________________\n",
            "dropout_16 (Dropout)         (None, 12, 12, 8)         0         \n",
            "_________________________________________________________________\n",
            "flatten_8 (Flatten)          (None, 1152)              0         \n",
            "_________________________________________________________________\n",
            "dense_16 (Dense)             (None, 128)               147584    \n",
            "_________________________________________________________________\n",
            "dropout_17 (Dropout)         (None, 128)               0         \n",
            "_________________________________________________________________\n",
            "dense_17 (Dense)             (None, 10)                1290      \n",
            "_________________________________________________________________\n",
            "scale_layer_8 (ScaleLayer)   (None, 10)                1         \n",
            "_________________________________________________________________\n",
            "softmax (Activation)         (None, 10)                0         \n",
            "=================================================================\n",
            "Total params: 149,539\n",
            "Trainable params: 149,538\n",
            "Non-trainable params: 1\n",
            "_________________________________________________________________\n",
            "Training the teacher model for all 10 classes of MNIST\n",
            "Epoch 1/5\n",
            "469/469 [==============================] - 3s 5ms/step - loss: 1.0033 - categorical_accuracy: 0.6797 - val_loss: 0.3029 - val_categorical_accuracy: 0.9190\n",
            "Epoch 2/5\n",
            "469/469 [==============================] - 2s 5ms/step - loss: 0.4458 - categorical_accuracy: 0.8652 - val_loss: 0.2188 - val_categorical_accuracy: 0.9379\n",
            "Epoch 3/5\n",
            "469/469 [==============================] - 2s 4ms/step - loss: 0.3499 - categorical_accuracy: 0.8944 - val_loss: 0.1793 - val_categorical_accuracy: 0.9483\n",
            "Epoch 4/5\n",
            "469/469 [==============================] - 2s 4ms/step - loss: 0.2986 - categorical_accuracy: 0.9117 - val_loss: 0.1513 - val_categorical_accuracy: 0.9552\n",
            "Epoch 5/5\n",
            "469/469 [==============================] - 2s 4ms/step - loss: 0.2631 - categorical_accuracy: 0.9212 - val_loss: 0.1322 - val_categorical_accuracy: 0.9610\n"
          ],
          "name": "stdout"
        }
      ]
    },
    {
      "cell_type": "markdown",
      "metadata": {
        "id": "KiR1laVKCdpy"
      },
      "source": [
        "# Attack The Teacher-Model"
      ]
    },
    {
      "cell_type": "code",
      "metadata": {
        "colab": {
          "base_uri": "https://localhost:8080/"
        },
        "id": "d0Oq8oRaV3Cf",
        "outputId": "b28881ac-159c-40b8-8985-d65a087b282c"
      },
      "source": [
        "print(\"Attacking The teacher model for all 10 classes of MNIST\")\n",
        "perform_all_attacks(teacher_model, None)"
      ],
      "execution_count": 95,
      "outputs": [
        {
          "output_type": "stream",
          "text": [
            "Attacking The teacher model for all 10 classes of MNIST\n",
            "\n",
            " FGSM method \n",
            "\n",
            "Test loss: 0.83\n",
            "Successfully moved out of source class: 0.28\n",
            "Mean perturbation distance: 0.10\n",
            "\n",
            " BIM(L_inf) method \n",
            "\n",
            "Iteration: 0\n",
            "Iteration: 1\n",
            "Iteration: 2\n",
            "Iteration: 3\n",
            "Test loss: 2.98\n",
            "Successfully moved out of source class: 0.84\n",
            "Mean perturbation distance: 0.12\n",
            "\n",
            " PGD(L_2) method \n",
            "\n",
            "Attack iteration: 0\n",
            "Attack iteration: 1\n",
            "Attack iteration: 2\n",
            "Attack iteration: 3\n",
            "Test loss: 0.14\n",
            "Successfully moved out of source class: 0.04\n",
            "Mean perturbation distance: 0.00\n"
          ],
          "name": "stdout"
        }
      ]
    },
    {
      "cell_type": "markdown",
      "metadata": {
        "id": "69t3ORZBJObx"
      },
      "source": [
        "# Train The Student-Model, Using Defensive-Distillation"
      ]
    },
    {
      "cell_type": "code",
      "metadata": {
        "id": "kwH_6j26GZ-L",
        "colab": {
          "base_uri": "https://localhost:8080/"
        },
        "outputId": "598dda5a-7c87-494b-b64c-2b945b7c3ea7"
      },
      "source": [
        "print(\"Training the student model for all 10 classes of MNIST\")\n",
        "student_model = CNN_mnist_model_temp(img_rows, img_cols, img_colors, num_classes, learning_rate)\n",
        "# Fetching the 'probability' vectors for each train-sample.\n",
        "train_softmax_vals = teacher_model.predict(\n",
        "    train_images, batch_size, workers=2, use_multiprocessing=True)\n",
        "student_history = train_model(student_model, max_epochs, train_images, \n",
        "                              train_labels, test_images, test_labels, \n",
        "                              batch_size, callbacks_list)"
      ],
      "execution_count": 96,
      "outputs": [
        {
          "output_type": "stream",
          "text": [
            "Training the student model for all 10 classes of MNIST\n",
            "Epoch 1/5\n",
            "469/469 [==============================] - 3s 5ms/step - loss: 1.0275 - categorical_accuracy: 0.6654 - val_loss: 0.3189 - val_categorical_accuracy: 0.9112\n",
            "Epoch 2/5\n",
            "469/469 [==============================] - 2s 4ms/step - loss: 0.4723 - categorical_accuracy: 0.8540 - val_loss: 0.2376 - val_categorical_accuracy: 0.9325\n",
            "Epoch 3/5\n",
            "469/469 [==============================] - 2s 4ms/step - loss: 0.3815 - categorical_accuracy: 0.8842 - val_loss: 0.1955 - val_categorical_accuracy: 0.9433\n",
            "Epoch 4/5\n",
            "469/469 [==============================] - 2s 4ms/step - loss: 0.3230 - categorical_accuracy: 0.9022 - val_loss: 0.1678 - val_categorical_accuracy: 0.9501\n",
            "Epoch 5/5\n",
            "469/469 [==============================] - 2s 5ms/step - loss: 0.2872 - categorical_accuracy: 0.9139 - val_loss: 0.1463 - val_categorical_accuracy: 0.9563\n"
          ],
          "name": "stdout"
        }
      ]
    },
    {
      "cell_type": "markdown",
      "metadata": {
        "id": "eBfLmhd0Lm4y"
      },
      "source": [
        "# Attack The Student Model"
      ]
    },
    {
      "cell_type": "code",
      "metadata": {
        "colab": {
          "base_uri": "https://localhost:8080/"
        },
        "id": "OTk0V1QOWnqs",
        "outputId": "9b6b38bc-4a15-491c-a28f-1fa000e5ea23"
      },
      "source": [
        "print(\"Attacking The student model for all 10 classes of MNIST\")\n",
        "perform_all_attacks(student_model, None)"
      ],
      "execution_count": 97,
      "outputs": [
        {
          "output_type": "stream",
          "text": [
            "Attacking The student model for all 10 classes of MNIST\n",
            "\n",
            " FGSM method \n",
            "\n",
            "Test loss: 0.83\n",
            "Successfully moved out of source class: 0.27\n",
            "Mean perturbation distance: 0.10\n",
            "\n",
            " BIM(L_inf) method \n",
            "\n",
            "Iteration: 0\n",
            "Iteration: 1\n",
            "Iteration: 2\n",
            "Iteration: 3\n",
            "Test loss: 3.05\n",
            "Successfully moved out of source class: 0.86\n",
            "Mean perturbation distance: 0.13\n",
            "\n",
            " PGD(L_2) method \n",
            "\n",
            "Attack iteration: 0\n",
            "Attack iteration: 1\n",
            "Attack iteration: 2\n",
            "Attack iteration: 3\n",
            "Test loss: 0.16\n",
            "Successfully moved out of source class: 0.05\n",
            "Mean perturbation distance: 0.00\n"
          ],
          "name": "stdout"
        }
      ]
    },
    {
      "cell_type": "markdown",
      "metadata": {
        "id": "ixcIvxM9W1dz"
      },
      "source": [
        "# Finding The Logits Values"
      ]
    },
    {
      "cell_type": "code",
      "metadata": {
        "id": "OFEmeJA-Lqdc"
      },
      "source": [
        "student_model.pop()\n",
        "student_model.pop()\n",
        "logit_student = student_model.predict(\n",
        "    train_images, batch_size, workers=2, use_multiprocessing=True)\n",
        "student_model.add(layers.Activation('softmax', name='softmax_no_temperature'))\n",
        "\n",
        "teacher_model.pop()\n",
        "teacher_model.pop()\n",
        "logit_base = teacher_model.predict(\n",
        "    train_images, batch_size, workers=2, use_multiprocessing=True)\n",
        "teacher_model.add(layers.Activation('softmax', name='softmax_no_temperature'))\n",
        "\n"
      ],
      "execution_count": 98,
      "outputs": []
    },
    {
      "cell_type": "markdown",
      "metadata": {
        "id": "v0znYBFFw2K_"
      },
      "source": [
        "#Filter The Database To Some Two Random Digits"
      ]
    },
    {
      "cell_type": "code",
      "metadata": {
        "id": "VSWb7UVLw2uV"
      },
      "source": [
        "num_classes = 2\n",
        "image_sample=np.random.choice(10, 2, replace=False)\n",
        "\n",
        "train_two_index= (np.where((train_labels_base == image_sample[0]) | (train_labels_base == image_sample[1])))[0]\n",
        "test_two_index= (np.where((test_labels_base == image_sample[0]) | (test_labels_base== image_sample[1])))[0]\n",
        "  \n",
        "train_images=train_images[train_two_index]\n",
        "train_labels=train_labels[train_two_index]\n",
        "train_labels=train_labels[:,image_sample]\n",
        "\n",
        "test_labels=test_labels[test_two_index]\n",
        "test_labels=test_labels[:,image_sample]\n",
        "\n",
        "test_images=test_images[test_two_index]\n",
        "\n",
        "index_0 = (np.where(test_labels_base == image_sample[0]))[0]\n",
        "index_1 = (np.where(test_labels_base == image_sample[1]) )[0]"
      ],
      "execution_count": 99,
      "outputs": []
    },
    {
      "cell_type": "markdown",
      "metadata": {
        "id": "5x58rJsDzM0K"
      },
      "source": [
        "# Repeat The Process for Two-class Models"
      ]
    },
    {
      "cell_type": "code",
      "metadata": {
        "colab": {
          "base_uri": "https://localhost:8080/"
        },
        "id": "pYG4JEbXzLWf",
        "outputId": "74155d6f-3d15-452a-ccae-e1c67fe005f7"
      },
      "source": [
        "print('Training Teach & Student Models for Two classes MNIST')\n",
        "binary_teacher_model = CNN_mnist_model_temp(img_rows, img_cols, img_colors, num_classes, learning_rate)\n",
        "callbacks_list = [reduce_lr]\n",
        "\n",
        "print('Base architecture - a simple convolutional neural network models')\n",
        "print(f'Training-temperature: {const_temperature}')\n",
        "\n",
        "print(\"Training the teacher model for all 10 classes of MNIST\")\n",
        "teacher_history = train_model(binary_teacher_model, max_epochs, train_images, \n",
        "                              train_labels, test_images, test_labels, \n",
        "                              batch_size, callbacks_list)\n",
        "\n",
        "print(\"Attacking The teacher model for all 2 classes of MNIST\")\n",
        "perform_all_attacks(binary_teacher_model, None)\n",
        "\n",
        "print(\"Training the student model for all 10 classes of MNIST\")\n",
        "binary_student_model = CNN_mnist_model_temp(img_rows, img_cols, img_colors, num_classes, learning_rate)\n",
        "# Fetching the 'probability' vectors for each train-sample.\n",
        "train_softmax_vals = binary_teacher_model.predict(\n",
        "    train_images, batch_size, workers=2, use_multiprocessing=True)\n",
        "student_history = train_model(binary_student_model, max_epochs, train_images, \n",
        "                              train_labels, test_images, test_labels, \n",
        "                              batch_size, callbacks_list)\n",
        "\n",
        "print(\"Attacking The student model for all 2 classes of MNIST\")\n",
        "perform_all_attacks(binary_student_model, None)\n",
        "\n",
        "student_model.pop()\n",
        "student_model.pop()\n",
        "binary_logit_student = binary_student_model.predict(\n",
        "    train_images, batch_size, workers=2, use_multiprocessing=True)\n",
        "binary_student_model.add(layers.Activation('softmax', name='softmax_no_temperature'))\n",
        "\n",
        "teacher_model.pop()\n",
        "teacher_model.pop()\n",
        "binary_logit_base = binary_teacher_model.predict(\n",
        "    train_images, batch_size, workers=2, use_multiprocessing=True)\n",
        "binary_teacher_model.add(layers.Activation('softmax', name='softmax_no_temperature'))"
      ],
      "execution_count": 100,
      "outputs": [
        {
          "output_type": "stream",
          "text": [
            "Training Teach & Student Models for Two classes MNIST\n",
            "Base architecture - a simple convolutional neural network models\n",
            "Training-temperature: 30\n",
            "Training the teacher model for all 10 classes of MNIST\n",
            "Epoch 1/5\n",
            "99/99 [==============================] - 1s 7ms/step - loss: 0.3972 - categorical_accuracy: 0.8280 - val_loss: 0.1051 - val_categorical_accuracy: 0.9801\n",
            "Epoch 2/5\n",
            "99/99 [==============================] - 0s 5ms/step - loss: 0.1223 - categorical_accuracy: 0.9629 - val_loss: 0.0453 - val_categorical_accuracy: 0.9886\n",
            "Epoch 3/5\n",
            "99/99 [==============================] - 0s 5ms/step - loss: 0.0827 - categorical_accuracy: 0.9722 - val_loss: 0.0319 - val_categorical_accuracy: 0.9915\n",
            "Epoch 4/5\n",
            "99/99 [==============================] - 0s 5ms/step - loss: 0.0707 - categorical_accuracy: 0.9768 - val_loss: 0.0256 - val_categorical_accuracy: 0.9929\n",
            "Epoch 5/5\n",
            "99/99 [==============================] - 0s 5ms/step - loss: 0.0629 - categorical_accuracy: 0.9790 - val_loss: 0.0228 - val_categorical_accuracy: 0.9929\n",
            "Attacking The teacher model for all 2 classes of MNIST\n",
            "\n",
            " FGSM method \n",
            "\n",
            "Test loss: 0.24\n",
            "Successfully moved out of source class: 0.08\n",
            "Mean perturbation distance: 0.10\n",
            "\n",
            " BIM(L_inf) method \n",
            "\n",
            "Iteration: 0\n",
            "Iteration: 1\n",
            "Iteration: 2\n",
            "Iteration: 3\n",
            "Test loss: 2.10\n",
            "Successfully moved out of source class: 0.59\n",
            "Mean perturbation distance: 0.13\n",
            "\n",
            " PGD(L_2) method \n",
            "\n",
            "Attack iteration: 0\n",
            "Attack iteration: 1\n",
            "Attack iteration: 2\n",
            "Attack iteration: 3\n",
            "Test loss: 0.03\n",
            "Successfully moved out of source class: 0.01\n",
            "Mean perturbation distance: 0.00\n",
            "Training the student model for all 10 classes of MNIST\n",
            "Epoch 1/5\n",
            "99/99 [==============================] - 1s 6ms/step - loss: 0.3691 - categorical_accuracy: 0.8887 - val_loss: 0.0872 - val_categorical_accuracy: 0.9825\n",
            "Epoch 2/5\n",
            "99/99 [==============================] - 0s 5ms/step - loss: 0.1078 - categorical_accuracy: 0.9650 - val_loss: 0.0409 - val_categorical_accuracy: 0.9891\n",
            "Epoch 3/5\n",
            "99/99 [==============================] - 0s 5ms/step - loss: 0.0778 - categorical_accuracy: 0.9744 - val_loss: 0.0290 - val_categorical_accuracy: 0.9915\n",
            "Epoch 4/5\n",
            "99/99 [==============================] - 0s 5ms/step - loss: 0.0628 - categorical_accuracy: 0.9794 - val_loss: 0.0246 - val_categorical_accuracy: 0.9924\n",
            "Epoch 5/5\n",
            "99/99 [==============================] - 0s 5ms/step - loss: 0.0600 - categorical_accuracy: 0.9798 - val_loss: 0.0219 - val_categorical_accuracy: 0.9938\n",
            "Attacking The student model for all 2 classes of MNIST\n",
            "\n",
            " FGSM method \n",
            "\n",
            "Test loss: 0.38\n",
            "Successfully moved out of source class: 0.15\n",
            "Mean perturbation distance: 0.10\n",
            "\n",
            " BIM(L_inf) method \n",
            "\n",
            "Iteration: 0\n",
            "Iteration: 1\n",
            "Iteration: 2\n",
            "Iteration: 3\n",
            "Test loss: 2.31\n",
            "Successfully moved out of source class: 0.60\n",
            "Mean perturbation distance: 0.13\n",
            "\n",
            " PGD(L_2) method \n",
            "\n",
            "Attack iteration: 0\n",
            "Attack iteration: 1\n",
            "Attack iteration: 2\n",
            "Attack iteration: 3\n",
            "Test loss: 0.02\n",
            "Successfully moved out of source class: 0.01\n",
            "Mean perturbation distance: 0.00\n"
          ],
          "name": "stdout"
        }
      ]
    },
    {
      "cell_type": "markdown",
      "metadata": {
        "id": "I1XdwTSPW0Zq"
      },
      "source": [
        "# Plotting Softmax & Logits Values Against Each Other"
      ]
    },
    {
      "cell_type": "code",
      "metadata": {
        "id": "3Fik6Twk8zEG",
        "colab": {
          "base_uri": "https://localhost:8080/",
          "height": 875
        },
        "outputId": "ffe71d7f-cde2-4373-9427-434ed9c59d7f"
      },
      "source": [
        "from scipy.special import softmax\n",
        "\n",
        "logit_student.sort()\n",
        "logit_base.sort()\n",
        "\n",
        "softmax_student = softmax(logit_student)\n",
        "softmax_base = softmax(logit_base)\n",
        "fig, axs = plt.subplots(2, 2,figsize=(15,15))\n",
        "\n",
        "axs[0, 0].scatter(logit_student[index_0,0], logit_student[index_0,1], color='blue')\n",
        "axs[0, 1].scatter(logit_base[index_0,0], logit_base[index_0,1], color='blue')\n",
        "\n",
        "axs[1, 0].scatter(softmax_student[index_0,0], softmax_student[index_0,1],  color='blue')\n",
        "axs[1, 1].scatter(softmax_base[index_0,0], softmax_base[index_0,1],  color='blue')\n",
        "\n",
        "\n",
        "\n",
        "# now plot both limits against eachother\n",
        "for i in range(2):\n",
        "    for j in range(2):\n",
        "        lims = [\n",
        "        np.min([axs[i,j].get_xlim(), axs[i,j].get_ylim()]),  # min of both axes\n",
        "        np.max([axs[i,j].get_xlim(), axs[i,j].get_ylim()])] # max of both axes\n",
        "\n",
        "        axs[i,j].plot(lims, lims, 'k-', alpha=0.75, zorder=0)\n",
        "\n",
        "        axs[i,j].plot(lims, lims, 'k-', alpha=0.75, zorder=0)\n",
        "\n",
        "        axs[i,j].set_aspect('equal')\n",
        "        axs[i,j].set_xlim(lims)\n",
        "        axs[i,j].set_ylim(lims)\n",
        "\n",
        "\n",
        "\n"
      ],
      "execution_count": 101,
      "outputs": [
        {
          "output_type": "display_data",
          "data": {
            "image/png": "[encoded data removed]",
            "text/plain": [
              "<Figure size 1080x1080 with 4 Axes>"
            ]
          },
          "metadata": {
            "tags": [],
            "needs_background": "light"
          }
        }
      ]
    }
  ]
}
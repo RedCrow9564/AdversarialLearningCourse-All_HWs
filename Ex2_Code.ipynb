{
  "nbformat": 4,
  "nbformat_minor": 0,
  "metadata": {
    "colab": {
      "name": "Ex2 Code.ipynb",
      "provenance": [],
      "collapsed_sections": [
        "GmiwsyzAS57D",
        "y6pKUtDYUdN8",
        "JMBfadMXUplb",
        "t7ryIG79VFPn",
        "Gor8_ybTVKlR",
        "wGrQYr0VZvHd",
        "zIwK6o9byvS8",
        "1pwkMaq8cKjp"
      ]
    },
    "kernelspec": {
      "name": "python3",
      "display_name": "Python 3"
    },
    "language_info": {
      "name": "python"
    },
    "accelerator": "GPU"
  },
  "cells": [
    {
      "cell_type": "markdown",
      "metadata": {
        "id": "unUS7taHKFRo"
      },
      "source": [
        "# Preliminaries - Installs, imports etc."
      ]
    },
    {
      "cell_type": "code",
      "metadata": {
        "cellView": "form",
        "id": "kEFsV3TuJsGE"
      },
      "source": [
        "#@title Choose seed value\n",
        "seed = 1995 #@param {type:\"integer\"}\n",
        "!rm -rf ./logs/\n",
        "%load_ext tensorboard\n",
        "%matplotlib inline\n",
        "import datetime\n",
        "import numpy as np\n",
        "from numpy.random import Generator, PCG64\n",
        "from matplotlib import pyplot as plt\n",
        "import tensorflow as tf\n",
        "from tensorflow import keras\n",
        "import tensorflow_datasets as tfds\n",
        "from tensorflow.keras import layers\n",
        "from sklearn.metrics import confusion_matrix\n",
        "from sklearn.ensemble import RandomForestClassifier\n",
        "import seaborn as sns\n",
        "from IPython.display import clear_output\n",
        "\n",
        "tf.random.set_seed(seed)  # Seeding Tensorflow.\n",
        "log_dir = \"logs/fit/\" + datetime.datetime.now().strftime(\"%Y%m%d-%H%M%S\")\n",
        "tensorboard_callback = tf.keras.callbacks.TensorBoard(log_dir=log_dir, histogram_freq=1)"
      ],
      "execution_count": 1,
      "outputs": []
    },
    {
      "cell_type": "markdown",
      "metadata": {
        "id": "GmiwsyzAS57D"
      },
      "source": [
        "#MNIST Dataset - Loading & Preprocessing"
      ]
    },
    {
      "cell_type": "code",
      "metadata": {
        "id": "WMfh3M3bKCh3"
      },
      "source": [
        "num_classes = 10\n",
        "img_rows, img_cols, img_colors = 28, 28, 1  # Greyscale images of 28 X 28.\n",
        "\n",
        "def normalize(x_train,x_test):\n",
        "    x_train -= x_train.min()\n",
        "    x_train /= x_train.max()\n",
        "    x_test -= x_test.min()\n",
        "    x_test /= x_test.max()\n",
        "    \n",
        "    return x_train, x_test\n",
        "\n",
        "(train_images, train_labels), (test_images, test_labels) = keras.datasets.mnist.load_data()\n",
        "train_images = train_images.astype('float32')\n",
        "test_images = test_images.astype('float32')\n",
        "train_images = train_images.reshape(train_images.shape[0], img_rows, img_cols, 1)\n",
        "test_images = test_images.reshape(test_images.shape[0], img_rows, img_cols, 1)\n",
        "train_images, test_images = normalize(train_images, test_images)\n",
        "    \n",
        "train_labels = keras.utils.to_categorical(train_labels, num_classes)\n",
        "test_labels = keras.utils.to_categorical(test_labels, num_classes)"
      ],
      "execution_count": 2,
      "outputs": []
    },
    {
      "cell_type": "markdown",
      "metadata": {
        "id": "qEBvHC7tUQGc"
      },
      "source": [
        "# Attack Utils"
      ]
    },
    {
      "cell_type": "markdown",
      "metadata": {
        "id": "y6pKUtDYUdN8"
      },
      "source": [
        "##Fast Gradient Sign Method (FSGM)"
      ]
    },
    {
      "cell_type": "code",
      "metadata": {
        "id": "Zw8jtrUiUTin"
      },
      "source": [
        "''' Fast Gradient Sign Method implementation - perturb all input features by an epsilon sized step in \n",
        "    the direction of loss gradient\n",
        "'''\n",
        "def FastGradientSignMethod(model, images, labels, epsilon=0.3):\n",
        "\n",
        "    # The GradientTape is the context at which we can explicitly ask for gradient calculation\n",
        "    # We define the relevant tensors inside that context, and ask for the gradient calculation outside of it\n",
        "    with tf.GradientTape() as grad:\n",
        "      true_label_tensor = tf.Variable(labels, dtype=tf.float32)\n",
        "      input_tensor = tf.Variable(images, dtype=tf.float32)\n",
        "      predicted = model(input_tensor)\n",
        "      adv_loss = keras.losses.categorical_crossentropy(true_label_tensor, predicted)\n",
        "    adv_grads = grad.gradient(adv_loss, input_tensor)\n",
        "\n",
        "    # Finally, the FGSM formula is rather straight forward x`= x + epsilon * sign(loss(x,y))\n",
        "    delta = tf.multiply(epsilon, tf.cast(tf.sign(adv_grads), dtype=tf.float32))\n",
        "    adv_out = input_tensor + delta\n",
        "    return adv_out.numpy()"
      ],
      "execution_count": 3,
      "outputs": []
    },
    {
      "cell_type": "markdown",
      "metadata": {
        "id": "JMBfadMXUplb"
      },
      "source": [
        "## Evaluate Attack Success"
      ]
    },
    {
      "cell_type": "code",
      "metadata": {
        "id": "ZrwaVXvvUsFE"
      },
      "source": [
        "''' A simple utility funcion for evaluating the success of an attack\n",
        "'''\n",
        "def TestAttack(model, adv_images, orig_images, true_labels, target_labels=None, targeted=False):\n",
        "    score = model.evaluate(adv_images, true_labels, verbose=0)\n",
        "    print('Test loss: {:.2f}'.format(score[0]))\n",
        "    print('Successfully moved out of source class: {:.2f}'.format( 1 - score[1]))\n",
        "    \n",
        "    if targeted:\n",
        "        score = model.evaluate(adv_images, target, verbose=0)\n",
        "        print('Test loss: {:.2f}'.format(score[0]))\n",
        "        print('Successfully perturbed to target class: {:.2f}'.format(score[1]))\n",
        "    \n",
        "    dist = np.mean(np.sqrt(np.mean(np.square(adv_images - orig_images), axis=(1,2,3))))\n",
        "    print('Mean perturbation distance: {:.2f}'.format(dist))"
      ],
      "execution_count": 4,
      "outputs": []
    },
    {
      "cell_type": "markdown",
      "metadata": {
        "id": "t7ryIG79VFPn"
      },
      "source": [
        "# Models For Attack"
      ]
    },
    {
      "cell_type": "code",
      "metadata": {
        "id": "odyJC5EQWzq9"
      },
      "source": [
        "#@title Select The Model to Attack and Hyperparameters\n",
        "selected_model = \"CNN from Lecture 2\" #@param [\"CNN from Lecture 2\", \"NN from Ex 1\", \"Random Forest from Ex1\"]\n",
        "batch_size = 128 #@param {type:\"integer\"}\n",
        "max_epochs = 12 #@param {type:\"integer\"}\n",
        "learning_rate = 0.1 #@param {type:\"number\"}\n",
        "lr_decay = 1e-6 #@param {type:\"number\"}\n",
        "lr_drop = 20 #@param {type:\"number\"}"
      ],
      "execution_count": 5,
      "outputs": []
    },
    {
      "cell_type": "markdown",
      "metadata": {
        "id": "Gor8_ybTVKlR"
      },
      "source": [
        "## CNN From Lecture 2"
      ]
    },
    {
      "cell_type": "code",
      "metadata": {
        "id": "82uZQSc5VS4B"
      },
      "source": [
        "if selected_model == \"CNN from Lecture 2\":\n",
        "\n",
        "  def lr_scheduler(epoch):\n",
        "      return learning_rate * (0.5 ** (epoch // lr_drop))\n",
        "  reduce_lr = keras.callbacks.LearningRateScheduler(lr_scheduler)\n",
        "\n",
        "  def build_mnist_model():    \n",
        "    activation = 'relu'\n",
        "    \n",
        "    model = keras.Sequential(name = selected_model.replace(\" \", \"_\"))\n",
        "    model.add(layers.Conv2D(8, kernel_size=(3, 3), input_shape=(img_rows, img_cols, img_colors), activation=activation))\n",
        "    model.add(layers.Conv2D(8, (3, 3), activation=activation))\n",
        "    model.add(layers.MaxPooling2D(pool_size=(2, 2)))\n",
        "    model.add(layers.Dropout(0.25))\n",
        "    model.add(layers.Flatten())\n",
        "    model.add(layers.Dense(128, activation=activation))\n",
        "    model.add(layers.Dropout(0.5))\n",
        "    model.add(layers.Dense(num_classes))\n",
        "    model.add(layers.Activation('softmax', name='y_pred'))\n",
        "              \n",
        "    return model\n",
        "\n",
        "  lecture_model = build_mnist_model()\n",
        "\n",
        "  lecture_model.compile(loss='categorical_crossentropy',\n",
        "                optimizer=keras.optimizers.Adadelta(),\n",
        "                metrics=[keras.metrics.CategoricalAccuracy()])\n",
        "  callbacks_list = [tensorboard_callback, reduce_lr]\n",
        "  attacked_model = lecture_model\n",
        "\n",
        "  def train_model(epochs_num: int, train_inputs, train_outputs):\n",
        "    history = attacked_model.fit(train_inputs, train_outputs,\n",
        "        batch_size=batch_size,\n",
        "        epochs=epochs_num,\n",
        "        verbose=1,\n",
        "        validation_data=(test_images, test_labels),\n",
        "        callbacks=callbacks_list)\n",
        "    return history"
      ],
      "execution_count": 6,
      "outputs": []
    },
    {
      "cell_type": "markdown",
      "metadata": {
        "id": "wGrQYr0VZvHd"
      },
      "source": [
        "## NN from Ex 1"
      ]
    },
    {
      "cell_type": "code",
      "metadata": {
        "id": "YIL-RLlJZxZh"
      },
      "source": [
        "if selected_model == \"NN from Ex 1\":\n",
        "  nn_model = keras.models.Sequential([\n",
        "    layers.Flatten(input_shape=(img_rows, img_cols, img_colors)),\n",
        "    layers.Dense(128, activation='relu'),\n",
        "    layers.Dense(num_classes),\n",
        "    layers.Activation('softmax', name='y_pred')\n",
        "  ], name = selected_model.replace(\" \", \"_\"))\n",
        "\n",
        "  nn_model.compile(\n",
        "      optimizer=keras.optimizers.Adam(learning_rate),\n",
        "      loss='categorical_crossentropy',\n",
        "      metrics=[keras.metrics.CategoricalAccuracy()])\n",
        "  callbacks_list = [tensorboard_callback]\n",
        "  attacked_model = nn_model\n",
        "\n",
        "  def train_model(epochs_num: int, train_inputs, train_outputs):\n",
        "    history = attacked_model.fit(train_inputs, train_outputs,\n",
        "        batch_size=batch_size,\n",
        "        epochs=epochs_num,\n",
        "        verbose=1,\n",
        "        validation_data=(test_images, test_labels),\n",
        "        callbacks=callbacks_list)\n",
        "    return history"
      ],
      "execution_count": 7,
      "outputs": []
    },
    {
      "cell_type": "markdown",
      "metadata": {
        "id": "zIwK6o9byvS8"
      },
      "source": [
        "## Random-Forest from Ex 1"
      ]
    },
    {
      "cell_type": "code",
      "metadata": {
        "id": "cgAnO59yyu_X"
      },
      "source": [
        "# TODO: Consider if non NN model are even acceptable, or useful...\n",
        "if selected_model == \"Random Forest from Ex1\":\n",
        "  rforest = RandomForestClassifier(n_estimators=5, random_state=seed)\n",
        "  x_train_flat = train_images.reshape(train_images.shape[0], -1)\n",
        "  x_test_flat = test_images.reshape(test_images.shape[0], -1)\n",
        "  y_train_digits = np.argmax(train_labels, axis=1)\n",
        "  y_test_digits = np.argmax(test_labels, axis=1)\n",
        "\n",
        "  def train_model(epochs_num: int, train_inputs, train_outputs):\n",
        "    rforest.fit(x_train_flat, y_train_digits)\n",
        "    y_pred = rforest.predict(x_test_flat)\n",
        "    cmrforest = confusion_matrix(y_test_digits, y_pred)\n",
        "    plt.figure(figsize=(10,7))\n",
        "    sns.heatmap(cmrforest ,annot=True , fmt = 'd')\n",
        "    plt.xlabel('Predicted')\n",
        "    plt.ylabel('Truth')\n",
        "    print(f'Random Forest train-accuracy: {rforest.score(x_train_flat, y_train_digits)}')\n",
        "    print(f'Random Forest test-accuracy: {rforest.score(x_test_flat, y_test_digits)}')\n",
        "\n",
        "  attacked_model = rforest"
      ],
      "execution_count": 8,
      "outputs": []
    },
    {
      "cell_type": "markdown",
      "metadata": {
        "id": "1pwkMaq8cKjp"
      },
      "source": [
        "## Train The Selected Model"
      ]
    },
    {
      "cell_type": "code",
      "metadata": {
        "colab": {
          "base_uri": "https://localhost:8080/",
          "height": 1000
        },
        "id": "WhkgTkSrafeK",
        "outputId": "e898d020-6cc8-479a-997e-aecc1139a2c0"
      },
      "source": [
        "try:\n",
        "  attacked_model.summary()\n",
        "except:\n",
        "  pass\n",
        "\n",
        "history = train_model(max_epochs, train_images, train_labels)\n",
        "%tensorboard --logdir logs/fit"
      ],
      "execution_count": 9,
      "outputs": [
        {
          "output_type": "stream",
          "text": [
            "Model: \"CNN_from_Lecture_2\"\n",
            "_________________________________________________________________\n",
            "Layer (type)                 Output Shape              Param #   \n",
            "=================================================================\n",
            "conv2d (Conv2D)              (None, 26, 26, 8)         80        \n",
            "_________________________________________________________________\n",
            "conv2d_1 (Conv2D)            (None, 24, 24, 8)         584       \n",
            "_________________________________________________________________\n",
            "max_pooling2d (MaxPooling2D) (None, 12, 12, 8)         0         \n",
            "_________________________________________________________________\n",
            "dropout (Dropout)            (None, 12, 12, 8)         0         \n",
            "_________________________________________________________________\n",
            "flatten (Flatten)            (None, 1152)              0         \n",
            "_________________________________________________________________\n",
            "dense (Dense)                (None, 128)               147584    \n",
            "_________________________________________________________________\n",
            "dropout_1 (Dropout)          (None, 128)               0         \n",
            "_________________________________________________________________\n",
            "dense_1 (Dense)              (None, 10)                1290      \n",
            "_________________________________________________________________\n",
            "y_pred (Activation)          (None, 10)                0         \n",
            "=================================================================\n",
            "Total params: 149,538\n",
            "Trainable params: 149,538\n",
            "Non-trainable params: 0\n",
            "_________________________________________________________________\n",
            "Epoch 1/12\n",
            "469/469 [==============================] - 6s 7ms/step - loss: 1.5282 - categorical_accuracy: 0.4887 - val_loss: 0.3030 - val_categorical_accuracy: 0.9192\n",
            "Epoch 2/12\n",
            "469/469 [==============================] - 2s 4ms/step - loss: 0.4756 - categorical_accuracy: 0.8552 - val_loss: 0.2188 - val_categorical_accuracy: 0.9380\n",
            "Epoch 3/12\n",
            "469/469 [==============================] - 2s 4ms/step - loss: 0.3582 - categorical_accuracy: 0.8924 - val_loss: 0.1793 - val_categorical_accuracy: 0.9485\n",
            "Epoch 4/12\n",
            "469/469 [==============================] - 2s 4ms/step - loss: 0.3066 - categorical_accuracy: 0.9097 - val_loss: 0.1514 - val_categorical_accuracy: 0.9554\n",
            "Epoch 5/12\n",
            "469/469 [==============================] - 2s 4ms/step - loss: 0.2734 - categorical_accuracy: 0.9184 - val_loss: 0.1322 - val_categorical_accuracy: 0.9608\n",
            "Epoch 6/12\n",
            "469/469 [==============================] - 2s 4ms/step - loss: 0.2477 - categorical_accuracy: 0.9269 - val_loss: 0.1183 - val_categorical_accuracy: 0.9641\n",
            "Epoch 7/12\n",
            "469/469 [==============================] - 2s 4ms/step - loss: 0.2147 - categorical_accuracy: 0.9357 - val_loss: 0.1061 - val_categorical_accuracy: 0.9670\n",
            "Epoch 8/12\n",
            "469/469 [==============================] - 2s 4ms/step - loss: 0.2037 - categorical_accuracy: 0.9399 - val_loss: 0.0981 - val_categorical_accuracy: 0.9702\n",
            "Epoch 9/12\n",
            "469/469 [==============================] - 2s 4ms/step - loss: 0.1901 - categorical_accuracy: 0.9437 - val_loss: 0.0913 - val_categorical_accuracy: 0.9716\n",
            "Epoch 10/12\n",
            "469/469 [==============================] - 2s 4ms/step - loss: 0.1694 - categorical_accuracy: 0.9496 - val_loss: 0.0861 - val_categorical_accuracy: 0.9732\n",
            "Epoch 11/12\n",
            "469/469 [==============================] - 2s 4ms/step - loss: 0.1616 - categorical_accuracy: 0.9519 - val_loss: 0.0813 - val_categorical_accuracy: 0.9748\n",
            "Epoch 12/12\n",
            "469/469 [==============================] - 2s 4ms/step - loss: 0.1548 - categorical_accuracy: 0.9546 - val_loss: 0.0767 - val_categorical_accuracy: 0.9762\n"
          ],
          "name": "stdout"
        },
        {
          "output_type": "display_data",
          "data": {
            "text/plain": [
              "Reusing TensorBoard on port 6006 (pid 215), started 1:58:21 ago. (Use '!kill 215' to kill it.)"
            ]
          },
          "metadata": {
            "tags": []
          }
        },
        {
          "output_type": "display_data",
          "data": {
            "application/javascript": [
              "\n",
              "        (async () => {\n",
              "            const url = new URL(await google.colab.kernel.proxyPort(6006, {'cache': true}));\n",
              "            url.searchParams.set('tensorboardColab', 'true');\n",
              "            const iframe = document.createElement('iframe');\n",
              "            iframe.src = url;\n",
              "            iframe.setAttribute('width', '100%');\n",
              "            iframe.setAttribute('height', '800');\n",
              "            iframe.setAttribute('frameborder', 0);\n",
              "            document.body.appendChild(iframe);\n",
              "        })();\n",
              "    "
            ],
            "text/plain": [
              "<IPython.core.display.Javascript object>"
            ]
          },
          "metadata": {
            "tags": []
          }
        }
      ]
    },
    {
      "cell_type": "markdown",
      "metadata": {
        "id": "kS4L-2wZ58Wo"
      },
      "source": [
        "# Re-training Defense Mechanism"
      ]
    },
    {
      "cell_type": "code",
      "metadata": {
        "cellView": "form",
        "id": "9WUjOR8D6Dch"
      },
      "source": [
        "#@title Attack Configuration\n",
        "attacked_samples: int = 1000 #@param {type:\"integer\"}\n",
        "epsilon: float = 0.3 #@param {type:\"number\"}\n",
        "attack_iterations: int = 5 #@param {type:\"integer\"}\n",
        "rng = Generator(PCG64(seed))\n",
        "\n",
        "def perform_attack_and_evaluate(model, test_set, rng_gen):\n",
        "  images_to_attack = test_set[rng_gen.integers(test_set.shape[0], size=attacked_samples)]\n",
        "  attacked_labels = attacked_model.predict(images_to_attack)\n",
        "  adv_images = FastGradientSignMethod(attacked_model, images_to_attack, attacked_labels, epsilon=epsilon)\n",
        "  TestAttack(attacked_model, adv_images, images_to_attack, attacked_labels, targeted=False)\n",
        "  return adv_images\n",
        "\n",
        "def show_adv_image(attacked_model, adv_images, title: str=\"\"):\n",
        "  index = 10\n",
        "  img = adv_images[index].reshape(img_rows, img_cols)\n",
        "  plt.imshow(img)\n",
        "  plt.title(title)\n",
        "  plt.show()\n",
        "  misclassified_label = np.argmax(attacked_model.predict(np.expand_dims(adv_images[index], axis=0)), axis=1)\n",
        "  print(f'Mis-classified label: {misclassified_label}')\n"
      ],
      "execution_count": 19,
      "outputs": []
    },
    {
      "cell_type": "code",
      "metadata": {
        "colab": {
          "base_uri": "https://localhost:8080/",
          "height": 1000
        },
        "id": "d2gXN3cZDLqu",
        "outputId": "2be59e14-756f-428a-c2f2-6966258fdac6"
      },
      "source": [
        "updated_train_images = train_images.copy()\n",
        "updated_train_labels = train_labels.copy()\n",
        "for i in range(attack_iterations):\n",
        "  adversarial_images = perform_attack_and_evaluate(attacked_model, test_images, rng)\n",
        "  adversarial_labels = attacked_model.predict(adversarial_images)\n",
        "  updated_train_images, unique_indices = np.unique(np.concatenate(\n",
        "      [updated_train_images, adversarial_images], axis=0), axis=0, \n",
        "      return_index=True)\n",
        "  updated_train_labels = np.concatenate(\n",
        "      [updated_train_labels, adversarial_labels], axis=0)[unique_indices,:]\n",
        "  #print(updated_train_images.shape)\n",
        "  #print(updated_train_labels.shape)\n",
        "  show_adv_image(attacked_model, adversarial_images, f\"Iteration no. {i}\")\n",
        "  train_model(epochs_num=1, train_inputs=updated_train_images, \n",
        "              train_outputs=updated_train_labels)\n"
      ],
      "execution_count": 20,
      "outputs": [
        {
          "output_type": "stream",
          "text": [
            "Test loss: 2.47\n",
            "Successfully moved out of source class: 0.62\n",
            "Mean perturbation distance: 0.30\n"
          ],
          "name": "stdout"
        },
        {
          "output_type": "display_data",
          "data": {
            "image/png": "[encoded data removed]",
            "text/plain": [
              "<Figure size 432x288 with 1 Axes>"
            ]
          },
          "metadata": {
            "tags": [],
            "needs_background": "light"
          }
        },
        {
          "output_type": "stream",
          "text": [
            "Mis-classified label: [8]\n",
            "477/477 [==============================] - 3s 6ms/step - loss: 0.1451 - categorical_accuracy: 0.9574 - val_loss: 0.0657 - val_categorical_accuracy: 0.9794\n",
            "Test loss: 2.80\n",
            "Successfully moved out of source class: 0.67\n",
            "Mean perturbation distance: 0.30\n"
          ],
          "name": "stdout"
        },
        {
          "output_type": "display_data",
          "data": {
            "image/png": "[encoded data removed]",
            "text/plain": [
              "<Figure size 432x288 with 1 Axes>"
            ]
          },
          "metadata": {
            "tags": [],
            "needs_background": "light"
          }
        },
        {
          "output_type": "stream",
          "text": [
            "Mis-classified label: [7]\n",
            "484/484 [==============================] - 3s 6ms/step - loss: 0.1528 - categorical_accuracy: 0.9563 - val_loss: 0.0646 - val_categorical_accuracy: 0.9796\n",
            "Test loss: 2.64\n",
            "Successfully moved out of source class: 0.61\n",
            "Mean perturbation distance: 0.30\n"
          ],
          "name": "stdout"
        },
        {
          "output_type": "display_data",
          "data": {
            "image/png": "[encoded data removed]",
            "text/plain": [
              "<Figure size 432x288 with 1 Axes>"
            ]
          },
          "metadata": {
            "tags": [],
            "needs_background": "light"
          }
        },
        {
          "output_type": "stream",
          "text": [
            "Mis-classified label: [3]\n",
            "492/492 [==============================] - 3s 6ms/step - loss: 0.1570 - categorical_accuracy: 0.9554 - val_loss: 0.0625 - val_categorical_accuracy: 0.9809\n",
            "Test loss: 2.51\n",
            "Successfully moved out of source class: 0.65\n",
            "Mean perturbation distance: 0.30\n"
          ],
          "name": "stdout"
        },
        {
          "output_type": "display_data",
          "data": {
            "image/png": "[encoded data removed]",
            "text/plain": [
              "<Figure size 432x288 with 1 Axes>"
            ]
          },
          "metadata": {
            "tags": [],
            "needs_background": "light"
          }
        },
        {
          "output_type": "stream",
          "text": [
            "Mis-classified label: [4]\n",
            "500/500 [==============================] - 3s 6ms/step - loss: 0.1646 - categorical_accuracy: 0.9531 - val_loss: 0.0616 - val_categorical_accuracy: 0.9810\n",
            "Test loss: 2.29\n",
            "Successfully moved out of source class: 0.62\n",
            "Mean perturbation distance: 0.30\n"
          ],
          "name": "stdout"
        },
        {
          "output_type": "display_data",
          "data": {
            "image/png": "[encoded data removed]",
            "text/plain": [
              "<Figure size 432x288 with 1 Axes>"
            ]
          },
          "metadata": {
            "tags": [],
            "needs_background": "light"
          }
        },
        {
          "output_type": "stream",
          "text": [
            "Mis-classified label: [7]\n",
            "507/507 [==============================] - 3s 6ms/step - loss: 0.1713 - categorical_accuracy: 0.9511 - val_loss: 0.0594 - val_categorical_accuracy: 0.9818\n"
          ],
          "name": "stdout"
        }
      ]
    }
  ]
}
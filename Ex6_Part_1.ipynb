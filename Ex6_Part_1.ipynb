{
  "nbformat": 4,
  "nbformat_minor": 0,
  "metadata": {
    "colab": {
      "name": "Ex6_Part_1.ipynb",
      "provenance": [],
      "collapsed_sections": [
        "I4oHC2j0boQS",
        "xrf0TCCteADH",
        "bLvPR5CdSODG",
        "1dHBI96MJ-q4",
        "BWojq57dKzbC",
        "-9Ua6MvMHThw",
        "-A4i1sThefX1"
      ]
    },
    "kernelspec": {
      "display_name": "Python 3",
      "name": "python3"
    },
    "language_info": {
      "name": "python"
    },
    "accelerator": "GPU"
  },
  "cells": [
    {
      "cell_type": "code",
      "metadata": {
        "cellView": "form",
        "id": "_deXH5RHba2v"
      },
      "source": [
        "#@title Choose seed value\n",
        "Seed = 1995 #@param {type:\"integer\"}\n",
        "!rm -rf ./logs/\n",
        "%load_ext tensorboard\n",
        "%matplotlib inline\n",
        "\n",
        "import datetime\n",
        "import numpy as np\n",
        "from numpy.random import Generator, PCG64\n",
        "import matplotlib as mpl\n",
        "from matplotlib import pyplot as plt\n",
        "import seaborn as sns\n",
        "import tensorflow as tf\n",
        "from tensorflow import keras\n",
        "from tensorflow.keras import layers\n",
        "from IPython.display import clear_output\n",
        "\n",
        "tf.random.set_seed(Seed)  # Seeding Tensorflow.\n",
        "np.random.seed(Seed)  # Seeding Numpy.\n",
        "# log_dir = \"logs/fit/\" + datetime.datetime.now().strftime(\"%Y%m%d-%H%M%S\")\n",
        "\n",
        "#tensorboard_callback = tf.keras.callbacks.TensorBoard(log_dir=log_dir, histogram_freq=1)"
      ],
      "execution_count": 2,
      "outputs": []
    },
    {
      "cell_type": "markdown",
      "metadata": {
        "id": "I4oHC2j0boQS"
      },
      "source": [
        "# MNIST Dataset - Loading & Preprocessing"
      ]
    },
    {
      "cell_type": "code",
      "metadata": {
        "colab": {
          "base_uri": "https://localhost:8080/"
        },
        "id": "UiP5I8Wrbosi",
        "outputId": "263018dd-a275-4fb1-9f4a-aab881c536f4"
      },
      "source": [
        "num_classes = 10\n",
        "img_rows, img_cols, img_colors = 28, 28, 1  # Greyscale images of 28 X 28.\n",
        "\n",
        "(X_train, y_train), (X_test, y_test) = keras.datasets.mnist.load_data()\n",
        "X_train = (X_train.astype(np.float32) - 127.5)/127.5\n",
        "X_train = X_train[:,:,:,np.newaxis]\n",
        "X_test = (X_test.astype(np.float32) - 127.5)/127.5\n",
        "X_test = X_test[:,:,:, np.newaxis]\n",
        "\n",
        "y_train = keras.utils.to_categorical(y_train, num_classes)\n",
        "y_test = keras.utils.to_categorical(y_test, num_classes)"
      ],
      "execution_count": 3,
      "outputs": [
        {
          "output_type": "stream",
          "text": [
            "Downloading data from https://storage.googleapis.com/tensorflow/tf-keras-datasets/mnist.npz\n",
            "11493376/11490434 [==============================] - 0s 0us/step\n"
          ],
          "name": "stdout"
        }
      ]
    },
    {
      "cell_type": "markdown",
      "metadata": {
        "id": "xrf0TCCteADH"
      },
      "source": [
        "#Classifiers For Investigation"
      ]
    },
    {
      "cell_type": "code",
      "metadata": {
        "id": "vzptOx4aeDS_"
      },
      "source": [
        "def CNN_mnist_model(img_rows, img_cols, img_colors, num_classes, learning_rate,\n",
        "                    name = \"CNN\"):\n",
        "    activation = 'relu'\n",
        "    model = keras.Sequential(name=name)\n",
        "    model.add(layers.Conv2D(8, kernel_size=(3, 3), input_shape=(img_rows, img_cols, img_colors), activation=activation))\n",
        "    model.add(layers.Conv2D(8, (3, 3), activation=activation))\n",
        "    model.add(layers.MaxPooling2D(pool_size=(2, 2)))\n",
        "    model.add(layers.Dropout(0.25))\n",
        "    model.add(layers.Flatten())\n",
        "    model.add(layers.Dense(128, activation=activation))\n",
        "    model.add(layers.Dropout(0.5))\n",
        "    model.add(layers.Dense(num_classes))\n",
        "    model.add(layers.Activation('softmax', name='softmax'))\n",
        "\n",
        "    model.compile(loss='categorical_crossentropy',\n",
        "                optimizer=keras.optimizers.Adadelta(learning_rate),\n",
        "                metrics=[keras.metrics.CategoricalAccuracy()])\n",
        "    return model\n",
        "\n",
        "\n",
        "def train_model(model, max_epochs: int, train_images, train_labels, test_images, \n",
        "                test_labels, batch_size, callbacks_list, verbose=1):\n",
        "    history = model.fit(train_images, train_labels,\n",
        "        batch_size=batch_size,\n",
        "        epochs=max_epochs,\n",
        "        verbose=verbose,\n",
        "        validation_data=(test_images, test_labels),\n",
        "        callbacks=callbacks_list)\n",
        "    return history\n",
        "\n",
        "def lr_scheduler(epoch):\n",
        "  return learning_rate * (0.5 ** (epoch // lr_drop))\n",
        "reduce_lr = keras.callbacks.LearningRateScheduler(lr_scheduler)"
      ],
      "execution_count": 4,
      "outputs": []
    },
    {
      "cell_type": "markdown",
      "metadata": {
        "id": "5IO-o8g0ethM"
      },
      "source": [
        "# Training The Classifier"
      ]
    },
    {
      "cell_type": "code",
      "metadata": {
        "colab": {
          "base_uri": "https://localhost:8080/"
        },
        "id": "gT2Rn-8c8zED",
        "cellView": "form",
        "outputId": "6f46b691-c5d7-4fd7-aaf9-b4979bcfbcf0"
      },
      "source": [
        "#@title Select The Classifier to Attack and Hyperparameters\n",
        "selected_model = \"CNN from Lecture 2\" #@param [\"CNN from Lecture 2\", \"NN from Ex 1\"]\n",
        "batch_size = 128 #@param {type:\"integer\"}\n",
        "max_epochs = 3 #@param {type:\"integer\"}\n",
        "learning_rate = 0.1 #@param {type:\"number\"}\n",
        "lr_decay = 1e-6 #@param {type:\"number\"}\n",
        "lr_drop = 6 #@param {type:\"number\"}\n",
        "\n",
        "\n",
        "classifier = CNN_mnist_model(img_rows, img_cols, img_colors, \n",
        "                             num_classes, learning_rate)\n",
        "print('Architecture of Classifier:')\n",
        "classifier.summary()\n",
        "\n",
        "callbacks_list = [reduce_lr]\n",
        "print(\"Training the Classifier:\")\n",
        "classifier_history = train_model(classifier, max_epochs, X_train, \n",
        "                                 y_train, X_test, y_test, \n",
        "                                 batch_size, callbacks_list)"
      ],
      "execution_count": 5,
      "outputs": [
        {
          "output_type": "stream",
          "text": [
            "Architecture of Classifier:\n",
            "Model: \"CNN\"\n",
            "_________________________________________________________________\n",
            "Layer (type)                 Output Shape              Param #   \n",
            "=================================================================\n",
            "conv2d (Conv2D)              (None, 26, 26, 8)         80        \n",
            "_________________________________________________________________\n",
            "conv2d_1 (Conv2D)            (None, 24, 24, 8)         584       \n",
            "_________________________________________________________________\n",
            "max_pooling2d (MaxPooling2D) (None, 12, 12, 8)         0         \n",
            "_________________________________________________________________\n",
            "dropout (Dropout)            (None, 12, 12, 8)         0         \n",
            "_________________________________________________________________\n",
            "flatten (Flatten)            (None, 1152)              0         \n",
            "_________________________________________________________________\n",
            "dense (Dense)                (None, 128)               147584    \n",
            "_________________________________________________________________\n",
            "dropout_1 (Dropout)          (None, 128)               0         \n",
            "_________________________________________________________________\n",
            "dense_1 (Dense)              (None, 10)                1290      \n",
            "_________________________________________________________________\n",
            "softmax (Activation)         (None, 10)                0         \n",
            "=================================================================\n",
            "Total params: 149,538\n",
            "Trainable params: 149,538\n",
            "Non-trainable params: 0\n",
            "_________________________________________________________________\n",
            "Training the Classifier:\n",
            "Epoch 1/3\n",
            "469/469 [==============================] - 33s 70ms/step - loss: 1.0612 - categorical_accuracy: 0.6550 - val_loss: 0.3192 - val_categorical_accuracy: 0.9135\n",
            "Epoch 2/3\n",
            "469/469 [==============================] - 32s 68ms/step - loss: 0.4555 - categorical_accuracy: 0.8613 - val_loss: 0.2266 - val_categorical_accuracy: 0.9359\n",
            "Epoch 3/3\n",
            "469/469 [==============================] - 32s 68ms/step - loss: 0.3581 - categorical_accuracy: 0.8898 - val_loss: 0.1820 - val_categorical_accuracy: 0.9471\n"
          ],
          "name": "stdout"
        }
      ]
    },
    {
      "cell_type": "markdown",
      "metadata": {
        "id": "bLvPR5CdSODG"
      },
      "source": [
        "# Images-Interpolation Stage"
      ]
    },
    {
      "cell_type": "code",
      "metadata": {
        "id": "RfbbIJ3VSTxF"
      },
      "source": [
        "@tf.function\n",
        "def interpolate_images(source_images: tf.Tensor, target_images: tf.Tensor, \n",
        "                       t: tf.Tensor):\n",
        "  \"\"\"\n",
        "    Computing t*target_images + (1-t)*source_images for all images.\n",
        "\n",
        "    Args:\n",
        "      source_images - 4D float32 Tensor of [images_num, height, width, channels].\n",
        "      target_images - 4D float32 Tensor of [images_num, height, width, channels].\n",
        "      t - 1D float32 Tensor of time samples between 0 to 1.\n",
        "\n",
        "    Returns:\n",
        "      5D Tensor of [images_num, height, width, channels, time_samples].\n",
        "  \"\"\"\n",
        "  new_axis: int = 4\n",
        "\n",
        "  # Multiplying by t (note the minus sign over the target images).\n",
        "  result = tf.tensordot(tf.stack(\n",
        "      [-source_images, target_images], axis=new_axis), t, axes=0)\n",
        "  \n",
        "  # Summing -t * source_images + t * target_images\n",
        "  result = tf.math.reduce_sum(result, axis=new_axis)\n",
        "\n",
        "  # Adding source_images to the current sum. \n",
        "  repetitions = tf.concat([tf.ones(new_axis, dtype=tf.int32), \n",
        "                           tf.reshape(tf.size(t), [1])], axis=0)\n",
        "  result = tf.math.add(tf.tile(tf.expand_dims(source_images, axis=new_axis), \n",
        "                               repetitions), result)\n",
        "  return result"
      ],
      "execution_count": 6,
      "outputs": []
    },
    {
      "cell_type": "markdown",
      "metadata": {
        "id": "dZdttRMoDWN_"
      },
      "source": [
        "# Example of Image Interpolation"
      ]
    },
    {
      "cell_type": "code",
      "metadata": {
        "colab": {
          "base_uri": "https://localhost:8080/",
          "height": 208
        },
        "id": "laZzYnYWDaZq",
        "cellView": "form",
        "outputId": "911ee121-7c94-461a-a29a-e98d677a8af8"
      },
      "source": [
        "#@title Select Image-Interpolation samples number\n",
        "samples_num = 11 #@param {type:\"integer\"}\n",
        "\n",
        "def show_images(images: tf.Tensor, classifications: list):\n",
        "  images_num: int = images.shape[0]  # Number of t values\n",
        "  fig, axs = plt.subplots(1, images_num, figsize=(25, 25))  \n",
        "  fig.subplots_adjust(bottom=0.8)\n",
        "  for i in range(images_num):\n",
        "    axs[i].set_title(classifications[i])\n",
        "    pcm = axs[i].imshow(images[i, :, :, 0], cmap='Greys_r')\n",
        "\n",
        "  fig.colorbar(pcm, ax=axs, location='bottom')\n",
        "  plt.show()\n",
        "\n",
        "t = tf.linspace(0.0, 1.0, samples_num)\n",
        "\n",
        "# Using the same samples from the test-set as in the exercise file.\n",
        "source_images = tf.Variable(X_test[18:20])\n",
        "target_images = tf.Variable(X_test[19:21])\n",
        "\n",
        "interpolated_images = interpolate_images(source_images, target_images, t)\n",
        "interpolated_images = tf.transpose(interpolated_images, perm=[4, 0, 1, 2, 3])\n",
        "interpolated_images = interpolated_images[:, 0, ...]  # Taking only a single image from the slice\n",
        "\n",
        "classifications = classifier(interpolated_images)\n",
        "classifications = np.argmax(classifications, axis=1)\n",
        "show_images(interpolated_images.numpy(), classifications)"
      ],
      "execution_count": 7,
      "outputs": [
        {
          "output_type": "display_data",
          "data": {
            "image/png": "[encoded data removed]",
            "text/plain": [
              "<Figure size 1800x1800 with 12 Axes>"
            ]
          },
          "metadata": {
            "tags": [],
            "needs_background": "light"
          }
        }
      ]
    },
    {
      "cell_type": "markdown",
      "metadata": {
        "id": "1dHBI96MJ-q4"
      },
      "source": [
        "# Binary-Search Stage"
      ]
    },
    {
      "cell_type": "code",
      "metadata": {
        "id": "ZZqUSMdwvdtd"
      },
      "source": [
        "def binary_search_lines(source_images: tf.Tensor, target_images: tf.Tensor, \n",
        "                        tol: tf.constant, source_classification: tf.constant,\n",
        "                        target_classification: tf.constant, classifier):\n",
        "  \"\"\"\n",
        "\n",
        "  Args:\n",
        "    source_images - 4D float32 Tensor of [images_num, height, width, channels].\n",
        "    target_images - 4D float32 Tensor of [images_num, height, width, channels].\n",
        "    tol - 0D float32 constatnt (1e-7).\n",
        "    classifications - 4D int32 Tensor of [images_num, height, width, channels].\n",
        "\n",
        "  Returns:\n",
        "    4D Tensor of [images_num, height, width, channels].\n",
        "  \"\"\"\n",
        "  candidates = target_images.numpy()  # Deep-copy of these images.\n",
        "  left_limit = source_images.numpy()\n",
        "  right_limit = target_images.numpy()  # Deep-copy of these images.\n",
        "  candidates_classifications = tf.argmax(classifier(target_images), axis=1).numpy()\n",
        "\n",
        "  intervals_length = tf.math.reduce_sum(tf.square(\n",
        "      tf.math.subtract(target_images, source_images)), axis=[1, 2, 3]).numpy()\n",
        "  active_indices_bool = tf.math.greater_equal(intervals_length, tol).numpy()\n",
        "  active_indices = tf.reshape(tf.where(active_indices_bool), [-1])\n",
        "\n",
        "  while tf.math.reduce_any(active_indices_bool):\n",
        "    # Classify the current candidates.\n",
        "    candidates_classifications[active_indices_bool] = np.argmax(classifier(\n",
        "        candidates[active_indices_bool, ...]), axis=1)\n",
        "\n",
        "    # Finding indices where the candidate is classified differently than\n",
        "    # the source images and the target images.\n",
        "    boundary_indices = tf.logical_and(\n",
        "        active_indices_bool, tf.logical_and(tf.math.not_equal(\n",
        "            candidates_classifications, source_classification),\n",
        "            tf.math.not_equal(candidates_classifications, \n",
        "                              target_classification)))\n",
        "    # Removing the indices whose boundary was reached, from the active indices\n",
        "    active_indices_bool = tf.logical_and(\n",
        "        active_indices_bool, tf.logical_not(boundary_indices))\n",
        "\n",
        "    # Calculate indices of pairs to move towards either source_images or target_images.\n",
        "    active_indices = tf.reshape(tf.where(active_indices_bool), [-1]).numpy()\n",
        "    \n",
        "    move_to_target_indices = tf.reshape(tf.where(tf.logical_and(\n",
        "        active_indices_bool, tf.math.equal(\n",
        "            candidates_classifications, source_classification))), [-1])\n",
        "    \n",
        "    move_to_source_indices = tf.reshape(tf.where(tf.logical_and(\n",
        "        active_indices_bool, tf.math.equal(\n",
        "            candidates_classifications, target_classification))), [-1])\n",
        "\n",
        "    left_limit[move_to_source_indices] = candidates[move_to_source_indices]\n",
        "    right_limit[move_to_target_indices] = candidates[move_to_target_indices]\n",
        "\n",
        "    candidates = tf.math.reduce_mean(tf.stack(\n",
        "        [left_limit, right_limit], axis=4), axis=4).numpy()\n",
        "    \n",
        "    intervals_length[active_indices] /= 2\n",
        "    \n",
        "    active_indices_bool = tf.math.logical_and(\n",
        "        active_indices_bool, tf.math.greater_equal(intervals_length, tol)).numpy()\n",
        "    active_indices = tf.reshape(tf.where(active_indices_bool), [-1]).numpy()\n",
        "\n",
        "    print(f'Active indices: {active_indices_bool}')\n",
        "    print(f'Candidates classifications: {candidates_classifications}')\n",
        "    print(f'Interval lengths: {intervals_length}')\n",
        "  return candidates"
      ],
      "execution_count": 8,
      "outputs": []
    },
    {
      "cell_type": "markdown",
      "metadata": {
        "id": "BWojq57dKzbC"
      },
      "source": [
        "# Example of Binary-Search Stage"
      ]
    },
    {
      "cell_type": "code",
      "metadata": {
        "colab": {
          "base_uri": "https://localhost:8080/"
        },
        "id": "jDFCd-GiK7lx",
        "outputId": "2824e82c-9ff6-4380-a571-abf8b4f70459"
      },
      "source": [
        "tol = tf.constant(1e-7, dtype=tf.float32)\n",
        "\n",
        "target_classifications = classifications[-1]\n",
        "source_classifications = classifications[0]\n",
        "binary_search_lines(source_images, target_images, tol, \n",
        "                    source_classifications, target_classifications, classifier);"
      ],
      "execution_count": 9,
      "outputs": [
        {
          "output_type": "stream",
          "text": [
            "/usr/local/lib/python3.7/dist-packages/ipykernel_launcher.py:52: FutureWarning: Using a non-tuple sequence for multidimensional indexing is deprecated; use `arr[tuple(seq)]` instead of `arr[seq]`. In the future this will be interpreted as an array index, `arr[np.array(seq)]`, which will result either in an error or a different result.\n"
          ],
          "name": "stderr"
        },
        {
          "output_type": "stream",
          "text": [
            "Active indices: [ True False]\n",
            "Candidates classifications: [4 9]\n",
            "Interval lengths: [257.82654 340.0835 ]\n",
            "Active indices: [ True False]\n",
            "Candidates classifications: [4 9]\n",
            "Interval lengths: [128.91327 340.0835 ]\n",
            "Active indices: [ True False]\n",
            "Candidates classifications: [4 9]\n",
            "Interval lengths: [ 64.456635 340.0835  ]\n",
            "Active indices: [ True False]\n",
            "Candidates classifications: [4 9]\n",
            "Interval lengths: [ 32.228317 340.0835  ]\n",
            "Active indices: [ True False]\n",
            "Candidates classifications: [4 9]\n",
            "Interval lengths: [ 16.114159 340.0835  ]\n",
            "Active indices: [ True False]\n",
            "Candidates classifications: [4 9]\n",
            "Interval lengths: [  8.057079 340.0835  ]\n",
            "Active indices: [ True False]\n",
            "Candidates classifications: [4 9]\n",
            "Interval lengths: [  4.0285397 340.0835   ]\n",
            "Active indices: [ True False]\n",
            "Candidates classifications: [4 9]\n",
            "Interval lengths: [  2.0142698 340.0835   ]\n",
            "Active indices: [ True False]\n",
            "Candidates classifications: [4 9]\n",
            "Interval lengths: [  1.0071349 340.0835   ]\n",
            "Active indices: [ True False]\n",
            "Candidates classifications: [4 9]\n",
            "Interval lengths: [  0.50356746 340.0835    ]\n",
            "Active indices: [ True False]\n",
            "Candidates classifications: [4 9]\n",
            "Interval lengths: [2.5178373e-01 3.4008350e+02]\n",
            "Active indices: [ True False]\n",
            "Candidates classifications: [4 9]\n",
            "Interval lengths: [1.2589186e-01 3.4008350e+02]\n",
            "Active indices: [ True False]\n",
            "Candidates classifications: [4 9]\n",
            "Interval lengths: [6.294593e-02 3.400835e+02]\n",
            "Active indices: [ True False]\n",
            "Candidates classifications: [4 9]\n",
            "Interval lengths: [3.1472966e-02 3.4008350e+02]\n",
            "Active indices: [ True False]\n",
            "Candidates classifications: [4 9]\n",
            "Interval lengths: [1.5736483e-02 3.4008350e+02]\n",
            "Active indices: [ True False]\n",
            "Candidates classifications: [4 9]\n",
            "Interval lengths: [7.8682415e-03 3.4008350e+02]\n",
            "Active indices: [ True False]\n",
            "Candidates classifications: [4 9]\n",
            "Interval lengths: [3.9341208e-03 3.4008350e+02]\n",
            "Active indices: [ True False]\n",
            "Candidates classifications: [4 9]\n",
            "Interval lengths: [1.9670604e-03 3.4008350e+02]\n",
            "Active indices: [ True False]\n",
            "Candidates classifications: [4 9]\n",
            "Interval lengths: [9.835302e-04 3.400835e+02]\n",
            "Active indices: [ True False]\n",
            "Candidates classifications: [4 9]\n",
            "Interval lengths: [4.917651e-04 3.400835e+02]\n",
            "Active indices: [ True False]\n",
            "Candidates classifications: [4 9]\n",
            "Interval lengths: [2.4588255e-04 3.4008350e+02]\n",
            "Active indices: [ True False]\n",
            "Candidates classifications: [4 9]\n",
            "Interval lengths: [1.2294127e-04 3.4008350e+02]\n",
            "Active indices: [ True False]\n",
            "Candidates classifications: [4 9]\n",
            "Interval lengths: [6.147064e-05 3.400835e+02]\n",
            "Active indices: [ True False]\n",
            "Candidates classifications: [4 9]\n",
            "Interval lengths: [3.073532e-05 3.400835e+02]\n",
            "Active indices: [ True False]\n",
            "Candidates classifications: [4 9]\n",
            "Interval lengths: [1.536766e-05 3.400835e+02]\n",
            "Active indices: [ True False]\n",
            "Candidates classifications: [4 9]\n",
            "Interval lengths: [7.683830e-06 3.400835e+02]\n",
            "Active indices: [ True False]\n",
            "Candidates classifications: [4 9]\n",
            "Interval lengths: [3.841915e-06 3.400835e+02]\n",
            "Active indices: [ True False]\n",
            "Candidates classifications: [4 9]\n",
            "Interval lengths: [1.9209574e-06 3.4008350e+02]\n",
            "Active indices: [ True False]\n",
            "Candidates classifications: [4 9]\n",
            "Interval lengths: [9.604787e-07 3.400835e+02]\n",
            "Active indices: [ True False]\n",
            "Candidates classifications: [4 9]\n",
            "Interval lengths: [4.8023935e-07 3.4008350e+02]\n",
            "Active indices: [ True False]\n",
            "Candidates classifications: [4 9]\n",
            "Interval lengths: [2.4011968e-07 3.4008350e+02]\n",
            "Active indices: [ True False]\n",
            "Candidates classifications: [4 9]\n",
            "Interval lengths: [1.2005984e-07 3.4008350e+02]\n",
            "Active indices: [False False]\n",
            "Candidates classifications: [4 9]\n",
            "Interval lengths: [6.002992e-08 3.400835e+02]\n"
          ],
          "name": "stdout"
        }
      ]
    },
    {
      "cell_type": "markdown",
      "metadata": {
        "id": "-9Ua6MvMHThw"
      },
      "source": [
        "#Gradient-Calculation Stage"
      ]
    },
    {
      "cell_type": "code",
      "metadata": {
        "id": "HVhi-sFxHY5B"
      },
      "source": [
        "@tf.function\n",
        "def calc_gradient(x):\n",
        "  with tf.GradientTape() as grad:\n",
        "    # Calculate the maximal softmax value f_{target}(x)\n",
        "    classifier_output = classifier(x)\n",
        "    max_targets = tf.math.argmax(classifier_output, output_type=tf.int32, axis=1)\n",
        "    idx = tf.stack([tf.range(x.shape[0]), max_targets], axis=-1)\n",
        "    max_softmax = tf.gather_nd(classifier_output, idx)\n",
        "\n",
        "    # Calculate the second maximal softmax value f_{i}(x) by turning\n",
        "    # the elements in the maximal indices to zeroes.\n",
        "    masked_output = tf.math.subtract(classifier_output, tf.scatter_nd(\n",
        "        idx, max_softmax, classifier_output.shape))\n",
        "    second_max = tf.math.reduce_max(masked_output, axis=1)\n",
        "\n",
        "    # Computing the target value s(x) and its gradient.\n",
        "    s = max_softmax - second_max  \n",
        "    s_grads = grad.gradient(s, x)\n",
        "    return s_grads"
      ],
      "execution_count": 39,
      "outputs": []
    },
    {
      "cell_type": "markdown",
      "metadata": {
        "id": "-A4i1sThefX1"
      },
      "source": [
        "# Example of Gradient-Calculation Stage"
      ]
    },
    {
      "cell_type": "code",
      "metadata": {
        "colab": {
          "base_uri": "https://localhost:8080/"
        },
        "id": "GCOhgpZQH3q6",
        "outputId": "e1cd9962-2588-45f1-cece-b2448575a9bf"
      },
      "source": [
        "x = source_images\n",
        "y = calc_gradient(x)\n",
        "print(f'x shape: {x.shape}')\n",
        "print(f'ds/dx shape: {y.shape}')\n",
        "print(f'ds/dx: {y}')"
      ],
      "execution_count": 42,
      "outputs": [
        {
          "output_type": "stream",
          "text": [
            "x shape: (2, 28, 28, 1)\n",
            "ds/dx shape: (2, 28, 28, 1)\n",
            "ds/dx: [[[[ 9.7529270e-04]\n",
            "   [ 1.3987939e-03]\n",
            "   [ 1.2073771e-03]\n",
            "   ...\n",
            "   [-6.8443891e-04]\n",
            "   [ 3.0524970e-04]\n",
            "   [ 0.0000000e+00]]\n",
            "\n",
            "  [[ 8.6721289e-04]\n",
            "   [-1.0216847e-03]\n",
            "   [ 1.7212925e-04]\n",
            "   ...\n",
            "   [-2.5289301e-03]\n",
            "   [-2.6791720e-03]\n",
            "   [ 0.0000000e+00]]\n",
            "\n",
            "  [[ 2.4240487e-03]\n",
            "   [ 2.1969131e-03]\n",
            "   [ 5.2733012e-03]\n",
            "   ...\n",
            "   [-6.5852061e-04]\n",
            "   [-3.5681995e-04]\n",
            "   [ 0.0000000e+00]]\n",
            "\n",
            "  ...\n",
            "\n",
            "  [[-2.6107251e-05]\n",
            "   [-6.5874495e-04]\n",
            "   [-5.1219598e-05]\n",
            "   ...\n",
            "   [-3.6262353e-03]\n",
            "   [-1.9018163e-04]\n",
            "   [-1.4601667e-05]]\n",
            "\n",
            "  [[ 4.4731245e-05]\n",
            "   [-1.6092788e-05]\n",
            "   [ 6.0453918e-04]\n",
            "   ...\n",
            "   [-8.1205927e-04]\n",
            "   [ 4.3623892e-04]\n",
            "   [ 0.0000000e+00]]\n",
            "\n",
            "  [[ 0.0000000e+00]\n",
            "   [ 0.0000000e+00]\n",
            "   [ 0.0000000e+00]\n",
            "   ...\n",
            "   [ 0.0000000e+00]\n",
            "   [ 0.0000000e+00]\n",
            "   [ 0.0000000e+00]]]\n",
            "\n",
            "\n",
            " [[[ 4.8892485e-05]\n",
            "   [ 1.0516403e-05]\n",
            "   [ 4.7610574e-06]\n",
            "   ...\n",
            "   [-5.1451239e-05]\n",
            "   [-1.8466229e-05]\n",
            "   [ 0.0000000e+00]]\n",
            "\n",
            "  [[ 2.8333910e-05]\n",
            "   [-9.0195004e-05]\n",
            "   [-8.1979444e-05]\n",
            "   ...\n",
            "   [-1.3800774e-04]\n",
            "   [-2.2816475e-05]\n",
            "   [ 0.0000000e+00]]\n",
            "\n",
            "  [[ 1.2377487e-04]\n",
            "   [-1.8011646e-05]\n",
            "   [ 1.7591155e-06]\n",
            "   ...\n",
            "   [ 1.8649198e-06]\n",
            "   [ 7.8554986e-05]\n",
            "   [ 0.0000000e+00]]\n",
            "\n",
            "  ...\n",
            "\n",
            "  [[-1.8297392e-06]\n",
            "   [-2.8989634e-05]\n",
            "   [-1.1374104e-06]\n",
            "   ...\n",
            "   [-4.6338982e-06]\n",
            "   [ 9.8669079e-06]\n",
            "   [ 0.0000000e+00]]\n",
            "\n",
            "  [[ 1.0756224e-05]\n",
            "   [-1.0190647e-05]\n",
            "   [-4.2575724e-05]\n",
            "   ...\n",
            "   [ 1.7044153e-05]\n",
            "   [-4.8083821e-06]\n",
            "   [ 0.0000000e+00]]\n",
            "\n",
            "  [[ 0.0000000e+00]\n",
            "   [ 0.0000000e+00]\n",
            "   [ 0.0000000e+00]\n",
            "   ...\n",
            "   [ 0.0000000e+00]\n",
            "   [ 0.0000000e+00]\n",
            "   [ 0.0000000e+00]]]]\n"
          ],
          "name": "stdout"
        }
      ]
    },
    {
      "cell_type": "code",
      "metadata": {
        "id": "9yyJvgQ4eh1K"
      },
      "source": [
        ""
      ],
      "execution_count": null,
      "outputs": []
    }
  ]
}